{
 "cells": [
  {
   "cell_type": "markdown",
   "metadata": {
    "pycharm": {
     "name": "#%% md\n"
    }
   },
   "source": [
    " 我们分析的目标有\n",
    "- 平均宽度是多少？（一般行动力是多少）\n",
    "    如果成功分析，下一步可以是：\n",
    "    - 逆向ab剪枝，在1h的训练下，能够获得多少棋局的minimax value？ 能够得到多少层的信息？保存到磁盘上可不可行？\n",
    "    - 正向ab剪枝，预测在numba加速的前提下，能够分析多少层？\n",
    "- 出现对称剪枝的情况多不多？\n",
    "\n",
    " - 可以把统计数据记到回合上面，然后最后分析 开局、中局、残局的信息"
   ]
  },
  {
   "cell_type": "code",
   "execution_count": 1,
   "metadata": {
    "pycharm": {
     "name": "#%%\n"
    }
   },
   "outputs": [],
   "source": [
    "from experiment.评估函数.simulator import Simulator\n",
    "from experiment.评估函数.greedy_ai import GreedyAI\n",
    "import experiment.old_ai.AI as ai\n",
    "from numba import njit\n",
    "\n",
    "import src.project1.submit.AI as new_ai\n",
    "\n",
    "import numpy as np\n",
    "import random\n",
    "\n",
    "# chessboard_size = 4  # 4赛罗游戏\n",
    "\n",
    "chessboard_size = 8  # 正常黑白棋游戏\n",
    "time_out = 5\n",
    "\n",
    "def random_baseline(a, p):\n",
    "    return random.random()  # 0-1随机权重"
   ]
  },
  {
   "cell_type": "code",
   "execution_count": 2,
   "outputs": [],
   "source": [
    "# breadth = [0 for i in range(65)] # 4到64回合可以用\n",
    "breadth = np.zeros(65) # 4到64回合可以用\n",
    "breadth_times = np.zeros(65)\n",
    "def account_breadth(rounds, color, chessboard, agents):\n",
    "    b = len(new_ai.actions(chessboard, color))\n",
    "    breadth[rounds] += b\n",
    "    breadth_times[rounds]+=1"
   ],
   "metadata": {
    "collapsed": false,
    "pycharm": {
     "name": "#%%\n"
    }
   }
  },
  {
   "cell_type": "code",
   "execution_count": 3,
   "outputs": [],
   "source": [
    "from src.project1.experimental.minimax迭代加深机 import *\n",
    "from numba.typed import Dict\n",
    "from numba import types\n",
    "\n",
    "# @njit\n",
    "def alpha_beta_search_account(chessboard, current_color, a_b_nodes, remaining_depth=8, alphas=np.array([-np.inf, -np.inf])):\n",
    "    \"\"\"\n",
    "\n",
    "    :param chessboard:\n",
    "    :param current_color:\n",
    "    :param remaining_depth: 0 表示 直接对节点估值，不合法。 1表示一层贪心。 根据时间资源和回合数，请合理分配搜索深度。目前知道10层全回合OK的\n",
    "    :param alphas: 0:到目前为止，路径上发现的 color=-1这个agent 的最佳选择值\n",
    "                  1:到目前为止，路径上发现的 color= 1这个agent 的最佳选择值\n",
    "    :param hash_table:\n",
    "    :return: 返回对于chessboard,color这个节点，它最大的选择值是多少，以及它选择了哪个子节点。\n",
    "    \"\"\"\n",
    "    a_b_nodes[0] +=1\n",
    "    alphas = alphas.copy()  # 防止修改上面的alphas\n",
    "    if is_terminal(chessboard):\n",
    "        utility = current_color * get_winner(chessboard)  # winner的颜色和我相等，就是1（颜色的平方性质）， 和我的颜色不等，就是-1.\n",
    "        return min_max_normalized_value(-1, 1, utility), None  # 满足截断性。由于其他价值函数也归一化了，0和1就是最小值和最大值\n",
    "\n",
    "    acts = typed.List(actions(chessboard, current_color))\n",
    "    if len(acts) == 0:\n",
    "        # 只能选择跳过这个action，value为对方的value\n",
    "        value, move = alpha_beta_search_account(chessboard, -current_color, a_b_nodes, remaining_depth - 1, alphas)\n",
    "        return -value, None  # 对手的值是和我反的。 我方没有action可以做。\n",
    "    new_chessboards = typed.List([updated_chessboard(chessboard, current_color, a) for a in acts])  # 用最多10倍内存换一半时间（排序和实际操作共用结果）\n",
    "    hash_table = Dict.empty(\n",
    "        key_type=types.UniTuple(types.uint64, 2),\n",
    "        value_type=types.float64  # 表示节点的价值。 如果哈希表有值，优先使用该值排序\n",
    "    )  # 如果有LRU，可以把继承上一次的table\n",
    "    insertion_sort(acts, new_chessboards, current_color, hash_table, 4)\n",
    "\n",
    "    if remaining_depth <= 1:  # 比如要求搜索1层，就是直接对max节点的所有邻接节点排序返回最大的。\n",
    "        return value_of_positions(new_chessboards[0], current_color), acts[0]  # 评价永远是根据我方的棋盘\n",
    "\n",
    "    value, move = -np.inf, None  # 写在一起。每个节点都尝试让自己的价值最大化\n",
    "    this_color_idx, other_color_idx = int((current_color + 1) // 2), int((-current_color + 1) // 2)\n",
    "    for i, new_chessboard in enumerate(new_chessboards):\n",
    "        action = acts[i]\n",
    "\n",
    "        new_value, t = alpha_beta_search_account(new_chessboard, -current_color, a_b_nodes, remaining_depth - 1, alphas)\n",
    "        new_value = -new_value\n",
    "\n",
    "        if new_value > value:\n",
    "            value, move = new_value, action\n",
    "\n",
    "            alphas[this_color_idx] = max(alphas[this_color_idx], value)\n",
    "        # 另一种颜色的某一个节点已经到达了c = -beta的水平，低于c的都不接受。\n",
    "        # 而我这个节点，至少可以达到v的水平。\n",
    "        # 在那个对手节点看来，我至多会选择-v， 如果它自己的c已经比我这个-v大了，\n",
    "        # 他就不会考虑我，我被剪枝，随便返回一个我的值和选择。\n",
    "        if -value <= alphas[other_color_idx]:\n",
    "            return value, move\n",
    "    return value, move"
   ],
   "metadata": {
    "collapsed": false,
    "pycharm": {
     "name": "#%%\n"
    }
   }
  },
  {
   "cell_type": "code",
   "execution_count": 6,
   "outputs": [],
   "source": [
    "a_b_nodes = np.zeros(65)\n",
    "a_b_nodes_times = np.zeros(65)\n",
    "\n",
    "def account_a_b_nodes(rounds, color, chessboard, agents):\n",
    "    global a_b_nodes, a_b_nodes_times\n",
    "    a_b_node = np.zeros(1)\n",
    "    alpha_beta_search_account(chessboard, color, a_b_node, 2)\n",
    "    a_b_nodes[rounds] += a_b_node[0]\n",
    "    a_b_nodes_times[rounds]+=1"
   ],
   "metadata": {
    "collapsed": false,
    "pycharm": {
     "name": "#%%\n"
    }
   }
  },
  {
   "cell_type": "code",
   "execution_count": 7,
   "metadata": {
    "pycharm": {
     "name": "#%%\n"
    }
   },
   "outputs": [],
   "source": [
    "def do_account_tenth():\n",
    "    # accountants = [account_breadth]\n",
    "    accountants = [account_a_b_nodes]\n",
    "    for i in range(10):\n",
    "        for i_color in [ai.COLOR_BLACK, ai.COLOR_WHITE]:\n",
    "            agents = {i_color: GreedyAI(chessboard_size, i_color, random_baseline),\n",
    "                      -i_color: GreedyAI(chessboard_size, -i_color, random_baseline)}\n",
    "            simulator = Simulator(chessboard_size, time_out, agents)\n",
    "            winner = simulator.quick_run(accountants, True)"
   ]
  },
  {
   "cell_type": "code",
   "execution_count": 9,
   "outputs": [
    {
     "name": "stdout",
     "output_type": "stream",
     "text": [
      "spin once!\n",
      "spin once!\n",
      "spin once!\n",
      "spin once!\n",
      "spin once!\n",
      "spin once!\n",
      "spin once!\n",
      "spin once!\n",
      "spin once!\n",
      "spin once!\n",
      "spin once!\n",
      "spin once!\n",
      "spin once!\n",
      "spin once!\n",
      "spin once!\n",
      "spin once!\n",
      "spin once!\n",
      "spin once!\n",
      "spin once!\n",
      "spin once!\n"
     ]
    }
   ],
   "source": [
    "do_account_tenth()"
   ],
   "metadata": {
    "collapsed": false,
    "pycharm": {
     "name": "#%%\n"
    }
   }
  },
  {
   "cell_type": "code",
   "execution_count": 10,
   "outputs": [
    {
     "name": "stdout",
     "output_type": "stream",
     "text": [
      "14.55\n"
     ]
    },
    {
     "name": "stderr",
     "output_type": "stream",
     "text": [
      "C:\\Users\\YeCanming\\AppData\\Local\\Temp\\ipykernel_2784\\10649458.py:1: RuntimeWarning: invalid value encountered in true_divide\n",
      "  avg_a_b_nodes = np.nan_to_num(a_b_nodes/a_b_nodes_times)\n"
     ]
    },
    {
     "data": {
      "text/plain": "array([ 0.        ,  0.        ,  0.        ,  0.        ,  5.        ,\n        4.        ,  5.45      ,  5.775     ,  6.725     ,  6.85      ,\n        7.35      ,  8.575     ,  8.825     ,  9.325     , 10.25      ,\n       10.775     , 10.35      , 11.55      , 11.15      , 11.975     ,\n       11.275     , 12.325     , 11.5       , 12.7       , 11.925     ,\n       13.8       , 12.75      , 13.625     , 12.675     , 13.8       ,\n       12.525     , 13.75      , 12.825     , 14.325     , 13.075     ,\n       14.55      , 12.85      , 14.2       , 12.375     , 13.75      ,\n       11.975     , 13.35      , 11.5       , 12.525     , 11.1       ,\n       11.6       , 10.8       , 11.375     ,  9.625     , 10.        ,\n        9.2       ,  9.15      ,  8.15      ,  8.25      ,  7.25      ,\n        7.3       ,  5.875     ,  6.125     ,  4.90243902,  4.87804878,\n        3.93023256,  3.6       ,  3.06382979,  2.        ,  0.        ])"
     },
     "execution_count": 10,
     "metadata": {},
     "output_type": "execute_result"
    }
   ],
   "source": [
    "avg_a_b_nodes = np.nan_to_num(a_b_nodes/a_b_nodes_times)\n",
    "print(avg_a_b_nodes.max())\n",
    "avg_a_b_nodes"
   ],
   "metadata": {
    "collapsed": false,
    "pycharm": {
     "name": "#%%\n"
    }
   }
  },
  {
   "cell_type": "code",
   "execution_count": 10,
   "outputs": [
    {
     "name": "stdout",
     "output_type": "stream",
     "text": [
      "[  0.   0.   0.   0. 160. 120. 185. 202. 230. 243. 285. 298. 322. 325.\n",
      " 359. 357. 364. 399. 389. 414. 440. 423. 461. 451. 456. 486. 461. 474.\n",
      " 491. 479. 497. 469. 516. 490. 519. 495. 510. 469. 487. 463. 483. 445.\n",
      " 464. 434. 430. 405. 420. 362. 380. 340. 339. 306. 300. 267. 278. 222.\n",
      " 212. 183. 166. 139. 113.  89.  66.  40.   0.]\n",
      "[ 0.  0.  0.  0. 40. 40. 40. 40. 40. 40. 40. 40. 40. 40. 40. 40. 40. 40.\n",
      " 40. 40. 40. 40. 40. 40. 40. 40. 40. 40. 40. 40. 40. 40. 40. 40. 40. 40.\n",
      " 40. 40. 40. 40. 40. 40. 40. 40. 40. 40. 40. 40. 40. 40. 40. 40. 40. 40.\n",
      " 40. 40. 40. 41. 40. 40. 40. 42. 46. 57.  0.]\n"
     ]
    }
   ],
   "source": [
    "print(breadth)\n",
    "print(breadth_times)    # 第六十四回合永远terminal，所以nan"
   ],
   "metadata": {
    "collapsed": false,
    "pycharm": {
     "name": "#%%\n"
    }
   }
  },
  {
   "cell_type": "code",
   "execution_count": 19,
   "metadata": {
    "pycharm": {
     "name": "#%%\n"
    }
   },
   "outputs": [
    {
     "name": "stdout",
     "output_type": "stream",
     "text": [
      "[ 0.          0.          0.          0.          4.          3.\n",
      "  4.625       5.05        5.75        6.075       7.125       7.45\n",
      "  8.05        8.125       8.975       8.925       9.1         9.975\n",
      "  9.725      10.35       11.         10.575      11.525      11.275\n",
      " 11.4        12.15       11.525      11.85       12.275      11.975\n",
      " 12.425      11.725      12.9        12.25       12.975      12.375\n",
      " 12.75       11.725      12.175      11.575      12.075      11.125\n",
      " 11.6        10.85       10.75       10.125      10.5         9.05\n",
      "  9.5         8.5         8.475       7.65        7.5         6.675\n",
      "  6.95        5.55        5.3         4.46341463  4.15        3.475\n",
      "  2.825       2.11904762  1.43478261  0.70175439  0.        ]\n"
     ]
    },
    {
     "name": "stderr",
     "output_type": "stream",
     "text": [
      "C:\\Users\\YeCanming\\AppData\\Local\\Temp\\ipykernel_14172\\2469600728.py:1: RuntimeWarning: invalid value encountered in true_divide\n",
      "  avg_breadths = np.nan_to_num(breadth/breadth_times)\n"
     ]
    }
   ],
   "source": [
    "avg_breadths = np.nan_to_num(breadth/breadth_times)\n",
    "print(avg_breadths)"
   ]
  },
  {
   "cell_type": "code",
   "execution_count": 20,
   "outputs": [
    {
     "data": {
      "text/plain": "8.093369219197761"
     },
     "execution_count": 20,
     "metadata": {},
     "output_type": "execute_result"
    }
   ],
   "source": [
    "avg_breadths.mean()"
   ],
   "metadata": {
    "collapsed": false,
    "pycharm": {
     "name": "#%%\n"
    }
   }
  },
  {
   "cell_type": "code",
   "execution_count": 28,
   "outputs": [
    {
     "data": {
      "text/plain": "<Figure size 432x288 with 1 Axes>",
      "image/png": "[encoded data removed]"
     },
     "metadata": {
      "needs_background": "light"
     },
     "output_type": "display_data"
    },
    {
     "data": {
      "text/plain": "(0.07629278861048339, 21.33424487500785)"
     },
     "execution_count": 28,
     "metadata": {},
     "output_type": "execute_result"
    }
   ],
   "source": [
    "import numpy as np\n",
    "import scipy as sp   ##在numpy基础上实现的部分算法库\n",
    "\n",
    "import matplotlib.pyplot as plt  ##绘图库\n",
    "\n",
    "from scipy.optimize import leastsq  ##引入最小二乘法算法\n",
    "\n",
    "x = np.array([14.55, 296.35, 55950.05])\n",
    "y = np.array([1, 65.4965, 4289.8110])\n",
    "def linear_regression(x,y):\n",
    "    N = len(x)\n",
    "    sumx = sum(x)\n",
    "    sumy = sum(y)\n",
    "    sumx2 = sum(x**2)\n",
    "    sumxy = sum(x*y)\n",
    "    A = np.mat([[N,sumx],[sumx,sumx2]])\n",
    "    b = np.array([sumy,sumxy])\n",
    "\n",
    "    return np.linalg.solve(A,b)\n",
    "b,k = linear_regression(x,y)\n",
    "\n",
    "# reg = np.polyfit(x,y,deg=1) #输入训练样本  设置一元\n",
    "# ry = np.polyval(reg,x)\n",
    "ry = k*x+b\n",
    "plt.plot(x,y,'b.',label='y = hx+b')\n",
    "plt.plot(x,ry,'r',label='regression')\n",
    "plt.legend(loc=0) #左上角显示label\n",
    "plt.grid(True)\n",
    "plt.xlabel('x')\n",
    "plt.ylabel('y')\n",
    "# plt.loglog()\n",
    "plt.savefig('linear.png')\n",
    "plt.show()\n",
    "k, b"
   ],
   "metadata": {
    "collapsed": false,
    "pycharm": {
     "name": "#%%\n"
    }
   }
  }
 ],
 "metadata": {
  "kernelspec": {
   "display_name": "Python 3.10.5 64-bit",
   "language": "python",
   "name": "python3"
  },
  "language_info": {
   "codemirror_mode": {
    "name": "ipython",
    "version": 3
   },
   "file_extension": ".py",
   "mimetype": "text/x-python",
   "name": "python",
   "nbconvert_exporter": "python",
   "pygments_lexer": "ipython3",
   "version": "3.10.5"
  },
  "orig_nbformat": 4,
  "vscode": {
   "interpreter": {
    "hash": "d4ad195ff334c471a543b0a7bb226f1a689063219ec9cc66cee2dec60707a1ec"
   }
  }
 },
 "nbformat": 4,
 "nbformat_minor": 2
}