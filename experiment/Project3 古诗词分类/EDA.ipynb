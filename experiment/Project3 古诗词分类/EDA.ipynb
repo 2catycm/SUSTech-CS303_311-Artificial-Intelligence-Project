{
 "cells": [
  {
   "cell_type": "markdown",
   "source": [
    "## Exploratory Data Analysis\n",
    "为什么做：了解数据、产生直觉，甚至可以人眼看出公式（不行也可以作为启发式）\n",
    "方法：\n",
    "库："
   ],
   "metadata": {
    "collapsed": false,
    "pycharm": {
     "name": "#%% md\n"
    }
   }
  },
  {
   "cell_type": "code",
   "execution_count": 138,
   "outputs": [],
   "source": [
    "import pandas as pd\n",
    "import seaborn as sn"
   ],
   "metadata": {
    "collapsed": false,
    "pycharm": {
     "name": "#%%\n"
    }
   }
  },
  {
   "cell_type": "code",
   "execution_count": 139,
   "outputs": [
    {
     "name": "stdout",
     "output_type": "stream",
     "text": [
      "                             title  author  \\\n",
      "0          [377, 491, 883, 2, 144]     107   \n",
      "1     [532, 101, 34, 79, 1832, 42]     107   \n",
      "2        [1579, 1650, 321, 8, 216]     107   \n",
      "3               [287, 13, 249, 82]     107   \n",
      "4  [616, 400, 446, 937, 1123, 193]     107   \n",
      "\n",
      "                                             content  \n",
      "0  [358, 328, 756, 377, 657, 0, 1899, 877, 959, 3...  \n",
      "1  [465, 164, 322, 18, 1216, 0, 522, 237, 676, 11...  \n",
      "2  [1579, 1650, 321, 8, 216, 0, 646, 796, 249, 10...  \n",
      "3  [608, 18, 111, 699, 395, 0, 1358, 1145, 320, 1...  \n",
      "4  [982, 711, 590, 147, 520, 0, 4312, 1085, 809, ...  \n"
     ]
    },
    {
     "data": {
      "text/plain": "             author\ncount  42014.000000\nmean     166.289213\nstd      381.748356\nmin        0.000000\n25%       13.000000\n50%       43.000000\n75%      119.000000\nmax     2631.000000",
      "text/html": "<div>\n<style scoped>\n    .dataframe tbody tr th:only-of-type {\n        vertical-align: middle;\n    }\n\n    .dataframe tbody tr th {\n        vertical-align: top;\n    }\n\n    .dataframe thead th {\n        text-align: right;\n    }\n</style>\n<table border=\"1\" class=\"dataframe\">\n  <thead>\n    <tr style=\"text-align: right;\">\n      <th></th>\n      <th>author</th>\n    </tr>\n  </thead>\n  <tbody>\n    <tr>\n      <th>count</th>\n      <td>42014.000000</td>\n    </tr>\n    <tr>\n      <th>mean</th>\n      <td>166.289213</td>\n    </tr>\n    <tr>\n      <th>std</th>\n      <td>381.748356</td>\n    </tr>\n    <tr>\n      <th>min</th>\n      <td>0.000000</td>\n    </tr>\n    <tr>\n      <th>25%</th>\n      <td>13.000000</td>\n    </tr>\n    <tr>\n      <th>50%</th>\n      <td>43.000000</td>\n    </tr>\n    <tr>\n      <th>75%</th>\n      <td>119.000000</td>\n    </tr>\n    <tr>\n      <th>max</th>\n      <td>2631.000000</td>\n    </tr>\n  </tbody>\n</table>\n</div>"
     },
     "execution_count": 139,
     "metadata": {},
     "output_type": "execute_result"
    }
   ],
   "source": [
    "df = pd.read_json('数字化全唐诗.json')\n",
    "print(df.head())\n",
    "df.describe()"
   ],
   "metadata": {
    "collapsed": false,
    "pycharm": {
     "name": "#%%\n"
    }
   }
  },
  {
   "cell_type": "code",
   "execution_count": 140,
   "outputs": [
    {
     "name": "stdout",
     "output_type": "stream",
     "text": [
      "(42014, 3)\n"
     ]
    },
    {
     "data": {
      "text/plain": "title      object\nauthor      int64\ncontent    object\ndtype: object"
     },
     "execution_count": 140,
     "metadata": {},
     "output_type": "execute_result"
    }
   ],
   "source": [
    "print(df.shape)\n",
    "df.dtypes"
   ],
   "metadata": {
    "collapsed": false,
    "pycharm": {
     "name": "#%%\n"
    }
   }
  },
  {
   "cell_type": "code",
   "execution_count": 141,
   "outputs": [
    {
     "data": {
      "text/plain": "title      object\nauthor      int32\ncontent    object\ndtype: object"
     },
     "execution_count": 141,
     "metadata": {},
     "output_type": "execute_result"
    }
   ],
   "source": [
    "df['author'] = df['author'].astype(int)\n",
    "df.dtypes"
   ],
   "metadata": {
    "collapsed": false,
    "pycharm": {
     "name": "#%%\n"
    }
   }
  },
  {
   "cell_type": "code",
   "execution_count": 142,
   "outputs": [
    {
     "data": {
      "text/plain": "                             title  author  \\\n0          [377, 491, 883, 2, 144]     107   \n1     [532, 101, 34, 79, 1832, 42]     107   \n2        [1579, 1650, 321, 8, 216]     107   \n3               [287, 13, 249, 82]     107   \n4  [616, 400, 446, 937, 1123, 193]     107   \n\n                                             content  \n0  [358, 328, 756, 377, 657, 0, 1899, 877, 959, 3...  \n1  [465, 164, 322, 18, 1216, 0, 522, 237, 676, 11...  \n2  [1579, 1650, 321, 8, 216, 0, 646, 796, 249, 10...  \n3  [608, 18, 111, 699, 395, 0, 1358, 1145, 320, 1...  \n4  [982, 711, 590, 147, 520, 0, 4312, 1085, 809, ...  ",
      "text/html": "<div>\n<style scoped>\n    .dataframe tbody tr th:only-of-type {\n        vertical-align: middle;\n    }\n\n    .dataframe tbody tr th {\n        vertical-align: top;\n    }\n\n    .dataframe thead th {\n        text-align: right;\n    }\n</style>\n<table border=\"1\" class=\"dataframe\">\n  <thead>\n    <tr style=\"text-align: right;\">\n      <th></th>\n      <th>title</th>\n      <th>author</th>\n      <th>content</th>\n    </tr>\n  </thead>\n  <tbody>\n    <tr>\n      <th>0</th>\n      <td>[377, 491, 883, 2, 144]</td>\n      <td>107</td>\n      <td>[358, 328, 756, 377, 657, 0, 1899, 877, 959, 3...</td>\n    </tr>\n    <tr>\n      <th>1</th>\n      <td>[532, 101, 34, 79, 1832, 42]</td>\n      <td>107</td>\n      <td>[465, 164, 322, 18, 1216, 0, 522, 237, 676, 11...</td>\n    </tr>\n    <tr>\n      <th>2</th>\n      <td>[1579, 1650, 321, 8, 216]</td>\n      <td>107</td>\n      <td>[1579, 1650, 321, 8, 216, 0, 646, 796, 249, 10...</td>\n    </tr>\n    <tr>\n      <th>3</th>\n      <td>[287, 13, 249, 82]</td>\n      <td>107</td>\n      <td>[608, 18, 111, 699, 395, 0, 1358, 1145, 320, 1...</td>\n    </tr>\n    <tr>\n      <th>4</th>\n      <td>[616, 400, 446, 937, 1123, 193]</td>\n      <td>107</td>\n      <td>[982, 711, 590, 147, 520, 0, 4312, 1085, 809, ...</td>\n    </tr>\n  </tbody>\n</table>\n</div>"
     },
     "execution_count": 142,
     "metadata": {},
     "output_type": "execute_result"
    }
   ],
   "source": [
    "df[:][0:5]"
   ],
   "metadata": {
    "collapsed": false,
    "pycharm": {
     "name": "#%%\n"
    }
   }
  },
  {
   "cell_type": "code",
   "execution_count": 143,
   "outputs": [
    {
     "data": {
      "text/plain": "<AxesSubplot:ylabel='Frequency'>"
     },
     "execution_count": 143,
     "metadata": {},
     "output_type": "execute_result"
    },
    {
     "data": {
      "text/plain": "<Figure size 432x288 with 1 Axes>",
      "image/png": "[encoded data removed]"
     },
     "metadata": {
      "needs_background": "light"
     },
     "output_type": "display_data"
    }
   ],
   "source": [
    "df['author'].plot.hist(bins=24, alpha=0.5)# 当然是这样，我排过序的。\n",
    "# ? 白居易只有两千多手诗啊，30000是什么鬼"
   ],
   "metadata": {
    "collapsed": false,
    "pycharm": {
     "name": "#%%\n"
    }
   }
  },
  {
   "cell_type": "markdown",
   "source": [],
   "metadata": {
    "collapsed": false,
    "pycharm": {
     "name": "#%% md\n"
    }
   }
  },
  {
   "cell_type": "code",
   "execution_count": 144,
   "outputs": [
    {
     "name": "stdout",
     "output_type": "stream",
     "text": [
      "                                             content\n",
      "0  [358, 328, 756, 377, 657, 0, 1899, 877, 959, 3...\n",
      "1  [465, 164, 322, 18, 1216, 0, 522, 237, 676, 11...\n",
      "2  [1579, 1650, 321, 8, 216, 0, 646, 796, 249, 10...\n",
      "3  [608, 18, 111, 699, 395, 0, 1358, 1145, 320, 1...\n",
      "4  [982, 711, 590, 147, 520, 0, 4312, 1085, 809, ...\n"
     ]
    },
    {
     "data": {
      "text/plain": "0    107\n1    107\n2    107\n3    107\n4    107\nName: author, dtype: int32"
     },
     "execution_count": 144,
     "metadata": {},
     "output_type": "execute_result"
    }
   ],
   "source": [
    "Data = df[['content']] # 我觉得可以实验一下：单独使用标题的准确率和单独使用content的准确率，确定关系。\n",
    "Label = df['author']\n",
    "print(Data.head())\n",
    "Label.head()"
   ],
   "metadata": {
    "collapsed": false,
    "pycharm": {
     "name": "#%%\n"
    }
   }
  },
  {
   "cell_type": "code",
   "execution_count": 145,
   "outputs": [],
   "source": [
    "data = Data.to_numpy()\n",
    "label = Label.to_numpy()"
   ],
   "metadata": {
    "collapsed": false,
    "pycharm": {
     "name": "#%%\n"
    }
   }
  },
  {
   "cell_type": "markdown",
   "source": [],
   "metadata": {
    "collapsed": false,
    "pycharm": {
     "name": "#%% md\n"
    }
   }
  },
  {
   "cell_type": "code",
   "execution_count": 146,
   "outputs": [
    {
     "data": {
      "text/plain": "array([[list([358, 328, 756, 377, 657, 0, 1899, 877, 959, 355, 68, 1, 931, 496, 94, 292, 168, 0, 196, 193, 4, 1881, 225, 1, 274, 4260, 305, 652, 223, 0, 106, 430, 1066, 866, 375, 1, 21, 13, 231, 1124, 528, 0, 18, 122, 86, 931, 406, 1, 466, 1602, 618, 748, 1970, 0, 1234, 210, 996, 1135, 1460, 1, 78, 1679, 1337, 172, 585, 0, 71, 1953, 953, 345, 2604, 1, 426, 1945, 316, 747, 1504, 0, 2404, 2858, 1178, 116, 3, 1, 288, 50, 809, 1499, 222, 0, 1454, 1971, 430, 1596, 1753, 1, 452, 456, 86, 544, 131, 0, 1107, 915, 1616, 400, 440, 1, 1076, 1301, 1209, 58, 29, 0, 2165, 101, 524, 110, 1760, 1, 311, 388, 84, 375, 604, 0, 558, 569, 322, 766, 1341, 1, 2166, 718, 895, 74, 509, 0, 513, 737, 809, 546, 1488, 1, 348, 1612, 249, 169, 686, 0, 1732, 351, 476, 264, 395, 1, 766, 753, 582, 409, 604, 0, 52, 72, 594, 25, 134, 1, 649, 345, 1047, 28, 1058, 0, 511, 279, 667, 120, 818, 1, 55, 737, 556, 1393, 96, 0, 1171, 573, 138, 127, 2129, 1, 264, 1162, 1006, 1033, 1375, 0, 868, 836, 424, 74, 912, 1, 592, 800, 357, 223, 20, 0, 310, 904, 652, 21, 837, 1, 122, 439, 522, 231, 567, 0, 30, 203, 41, 581, 1049, 1, 27, 49, 2474, 2042, 520, 0, 100, 233, 718, 884, 220, 1, 106, 917, 55, 264, 313, 0, 408, 1997, 165, 304, 932, 1, 1591, 207, 13, 649, 415, 0, 811, 67, 157, 18, 659, 1, 480, 1780, 152, 19, 328, 0, 604, 72, 1192, 34, 2069, 1, 297, 722, 1869, 237, 173, 0, 138, 39, 476, 440, 218, 1, 84, 13, 307, 528, 714, 0, 119, 915, 23, 126, 217, 1, 34, 122, 397, 189, 273, 0, 678, 29, 1002, 268, 561, 1, 3203, 2485, 1313, 447, 98, 0, 111, 600, 602, 21, 783, 1, 484, 223, 1104, 1124, 387, 0, 52, 18, 613, 78, 108, 1, 476, 169, 170, 745, 226, 0, 264, 1162, 587, 127, 537, 1, 78, 114, 683, 21, 2678, 0, 408, 4680, 457, 931, 793, 1, 94, 542, 289, 1044, 653, 0, 4, 1634, 2307, 71, 128, 1, 51, 761, 126, 1244, 236, 0, 546, 190, 268, 820, 1623, 1, 641, 335, 476, 718, 300, 0, 9, 16, 113, 1702, 1818, 1, 303, 931, 812, 92, 496, 0, 2121, 264, 2701, 3046, 918, 1, 968, 452, 365, 287, 320, 0, 1096, 642, 29, 189, 997, 1, 15, 549, 20, 674, 1831, 0, 454, 50, 288, 242, 182, 1, 270, 737, 165, 430, 591, 0, 414, 154, 115, 34, 639, 1, 953, 3, 1417, 95, 1314, 0, 1613, 1941, 292, 710, 402, 1, 102, 135, 911, 2807, 1397, 0, 1426, 87, 408, 496, 791, 1, 7, 65, 1260, 54, 837, 0, 375, 46, 1812, 913, 1020, 1, 334, 26, 2573, 895, 1361, 0, 249, 1221, 93, 1143, 1014, 1, 1986, 1123, 2541, 1283, 1402, 0, 58, 1826, 2176, 2108, 718, 1, 14, 11, 895, 170, 1288, 0, 10, 8, 209, 149, 1029, 1, 791, 431, 2590, 510, 1892, 0, 138, 1893, 21, 284, 969, 1]),\n        107],\n       [list([465, 164, 322, 18, 1216, 0, 522, 237, 676, 117, 462, 1, 3663, 143, 4, 126, 278, 0, 236, 12, 94, 233, 134, 1, 1066, 1166, 837, 1833, 422, 0, 1124, 2134, 602, 54, 395, 1, 414, 414, 3, 1483, 808, 0, 532, 101, 86, 34, 79, 1, 77, 314, 274, 540, 520, 0, 1258, 294, 316, 216, 96, 1, 411, 171, 52, 78, 465, 0, 2122, 1212, 582, 71, 4373, 1, 341, 1069, 1910, 1218, 3005, 0, 362, 477, 1192, 630, 3424, 1, 471, 1448, 1566, 172, 1642, 0, 112, 401, 1052, 101, 1085, 1, 732, 2235, 1400, 783, 321, 0, 1525, 128, 446, 158, 463, 1, 518, 2920, 5, 790, 162, 0, 338, 267, 2605, 72, 97, 1]),\n        107],\n       [list([1579, 1650, 321, 8, 216, 0, 646, 796, 249, 100, 1291, 1, 78, 649, 966, 243, 821, 0, 71, 180, 110, 13, 490, 1, 15, 39, 1057, 2617, 52, 0, 22, 509, 3047, 3367, 287, 1, 678, 968, 365, 274, 325, 0, 559, 162, 21, 462, 937, 1, 3005, 400, 1568, 17, 332, 0, 963, 210, 966, 23, 446, 1, 122, 278, 1002, 147, 273, 0, 171, 422, 625, 95, 178, 1, 266, 239, 2452, 611, 448, 0, 243, 79, 618, 29, 1301, 1, 577, 1739, 1775, 26, 289, 0, 85, 79, 204, 465, 57, 1, 30, 864, 2145, 628, 134, 0, 3120, 113, 110, 314, 783, 1, 37, 881, 393, 3204, 190, 0, 24, 676, 1352, 2664, 1410, 1, 98, 341, 172, 230, 468, 0, 1833, 261, 345, 1529, 1166, 1, 162, 852, 1435, 9, 170, 0, 479, 3871, 1489, 8, 2219, 1, 2220, 2453, 326, 285, 1289, 0, 998, 2334, 939, 384, 1170, 1, 997, 917, 36, 26, 2260, 0, 138, 915, 97, 121, 518, 1, 1467, 143, 220, 491, 1085, 0, 307, 237, 1834, 377, 263, 1, 2177, 1941, 93, 3843, 503, 0, 1613, 680, 1027, 32, 1273, 1, 214, 144, 1675, 1900, 656, 0, 3048, 3025, 590, 1876, 3574, 1, 468, 432, 3136, 628, 10, 0, 1079, 382, 1366, 79, 17, 1, 2869, 680, 1538, 1566, 2590, 0, 2679, 210, 996, 1010, 1429, 1, 117, 47, 2036, 271, 65, 0, 286, 476, 1659, 1057, 5, 1]),\n        107],\n       ...,\n       [list([493, 1212, 96, 576, 0, 500, 837, 145, 178, 13, 0, 43, 393, 26, 484, 1, 161, 171, 216, 422, 4130, 396, 0, 106, 57, 5, 448, 0, 69, 18, 195, 41, 26, 801, 1, 151, 47, 65, 12, 19, 265, 0, 272, 304, 2488, 488, 231, 0, 884, 103, 85, 2301, 1, 75, 228, 185, 7, 424, 316, 0]),\n        91],\n       [list([43, 56, 636, 0, 2732, 4673, 298, 166, 3776, 1, 4088, 555, 6, 47, 807, 690, 2931, 0]),\n        386],\n       [list([658, 165, 175, 1740, 0, 25, 279, 106, 28, 129, 286, 340, 2527, 628, 1134, 7, 83, 0, 293, 44, 77, 656, 219, 419, 30, 1, 24, 28, 24, 55, 0, 7, 59, 84, 30, 110, 31, 67, 1, 30, 152, 95, 2406, 0, 774, 113, 242, 182, 7, 6, 47, 1]),\n        386]], dtype=object)"
     },
     "execution_count": 146,
     "metadata": {},
     "output_type": "execute_result"
    }
   ],
   "source": [
    "import numpy as np\n",
    "array = df[['content', 'author']].to_numpy()\n",
    "array"
   ],
   "metadata": {
    "collapsed": false,
    "pycharm": {
     "name": "#%%\n"
    }
   }
  },
  {
   "cell_type": "code",
   "execution_count": 147,
   "outputs": [
    {
     "name": "stdout",
     "output_type": "stream",
     "text": [
      "2498\n"
     ]
    },
    {
     "data": {
      "text/plain": "2632"
     },
     "execution_count": 147,
     "metadata": {},
     "output_type": "execute_result"
    }
   ],
   "source": [
    "from collections import Counter\n",
    "a = Counter(label)\n",
    "a = dict(a)\n",
    "# 一共两千多个(0-2631)诗人，有多少个写得诗少呢？\n",
    "c = 0\n",
    "# filter_value = 2 # 1429 居然有一半是诗人只传唱了一首诗？\n",
    "# filter_value = 20 # 2384\n",
    "# filter_value = 30 # 2434\n",
    "filter_value = 60 # 2498\n",
    "for 诗人 in set(Label):\n",
    "    if a[诗人]<filter_value:\n",
    "        c+=1\n",
    "print(c)\n",
    "len(set(Label))"
   ],
   "metadata": {
    "collapsed": false,
    "pycharm": {
     "name": "#%%\n"
    }
   }
  },
  {
   "cell_type": "code",
   "execution_count": 148,
   "outputs": [],
   "source": [
    "filter_values = range(3000)\n",
    "def get_more_than(filter_value):\n",
    "    c = 0\n",
    "    for 诗人 in set(Label):\n",
    "        if a[诗人]>=filter_value:\n",
    "            c+=1\n",
    "    return c\n",
    "poets = list(map(get_more_than, filter_values))"
   ],
   "metadata": {
    "collapsed": false,
    "pycharm": {
     "name": "#%%\n"
    }
   }
  },
  {
   "cell_type": "code",
   "execution_count": 149,
   "outputs": [
    {
     "data": {
      "text/plain": "<Figure size 432x288 with 4 Axes>",
      "image/png": "[encoded data removed]"
     },
     "metadata": {
      "needs_background": "light"
     },
     "output_type": "display_data"
    }
   ],
   "source": [
    "import matplotlib.pyplot as plt\n",
    "def draw(start = 0, step=5):\n",
    "    a, b = start, start+step\n",
    "    for plot_position in [221, 222, 223, 224]:\n",
    "        plt.subplot(plot_position)\n",
    "        plt.plot(filter_values[a:b], poets[a:b])\n",
    "        a, b = b, b+step\n",
    "draw(10, 150)"
   ],
   "metadata": {
    "collapsed": false,
    "pycharm": {
     "name": "#%%\n"
    }
   }
  },
  {
   "cell_type": "code",
   "execution_count": 150,
   "outputs": [
    {
     "data": {
      "text/plain": "<Figure size 432x288 with 4 Axes>",
      "image/png": "[encoded data removed]"
     },
     "metadata": {
      "needs_background": "light"
     },
     "output_type": "display_data"
    }
   ],
   "source": [
    "draw(0, 10)"
   ],
   "metadata": {
    "collapsed": false,
    "pycharm": {
     "name": "#%%\n"
    }
   }
  },
  {
   "cell_type": "code",
   "execution_count": 151,
   "outputs": [
    {
     "data": {
      "text/plain": "<Figure size 432x288 with 4 Axes>",
      "image/png": "[encoded data removed]"
     },
     "metadata": {
      "needs_background": "light"
     },
     "output_type": "display_data"
    }
   ],
   "source": [
    "draw(0, 20)"
   ],
   "metadata": {
    "collapsed": false,
    "pycharm": {
     "name": "#%%\n"
    }
   }
  },
  {
   "cell_type": "code",
   "execution_count": 152,
   "outputs": [
    {
     "data": {
      "text/plain": "<Figure size 432x288 with 4 Axes>",
      "image/png": "[encoded data removed]"
     },
     "metadata": {
      "needs_background": "light"
     },
     "output_type": "display_data"
    }
   ],
   "source": [
    "draw(40, 20)"
   ],
   "metadata": {
    "collapsed": false,
    "pycharm": {
     "name": "#%%\n"
    }
   }
  },
  {
   "cell_type": "code",
   "execution_count": 152,
   "outputs": [],
   "source": [],
   "metadata": {
    "collapsed": false,
    "pycharm": {
     "name": "#%%\n"
    }
   }
  },
  {
   "cell_type": "code",
   "execution_count": 153,
   "outputs": [
    {
     "data": {
      "text/plain": "array([False, False, False, ...,  True, False, False])"
     },
     "execution_count": 153,
     "metadata": {},
     "output_type": "execute_result"
    }
   ],
   "source": [
    "# 去除掉不出名的诗人\n",
    "assert len(data)==len(label)\n",
    "is_famous = np.zeros(len(label))\n",
    "for i, 诗人 in enumerate(label):\n",
    "    if a[诗人]>95: #排名前100诗人\n",
    "        is_famous[i] = 1\n",
    "is_famous.astype(bool)\n",
    "# data, label = data[is_famous], label[is_famous] # 居然不行？"
   ],
   "metadata": {
    "collapsed": false,
    "pycharm": {
     "name": "#%%\n"
    }
   }
  },
  {
   "cell_type": "code",
   "execution_count": 166,
   "outputs": [
    {
     "data": {
      "text/plain": "[358,\n 328,\n 756,\n 377,\n 657,\n 0,\n 1899,\n 877,\n 959,\n 355,\n 68,\n 1,\n 931,\n 496,\n 94,\n 292,\n 168,\n 0,\n 196,\n 193,\n 4,\n 1881,\n 225,\n 1,\n 274,\n 4260,\n 305,\n 652,\n 223,\n 0,\n 106,\n 430,\n 1066,\n 866,\n 375,\n 1,\n 21,\n 13,\n 231,\n 1124,\n 528,\n 0,\n 18,\n 122,\n 86,\n 931,\n 406,\n 1,\n 466,\n 1602,\n 618,\n 748,\n 1970,\n 0,\n 1234,\n 210,\n 996,\n 1135,\n 1460,\n 1,\n 78,\n 1679,\n 1337,\n 172,\n 585,\n 0,\n 71,\n 1953,\n 953,\n 345,\n 2604,\n 1,\n 426,\n 1945,\n 316,\n 747,\n 1504,\n 0,\n 2404,\n 2858,\n 1178,\n 116,\n 3,\n 1,\n 288,\n 50,\n 809,\n 1499,\n 222,\n 0,\n 1454,\n 1971,\n 430,\n 1596,\n 1753,\n 1,\n 452,\n 456,\n 86,\n 544,\n 131,\n 0,\n 1107,\n 915,\n 1616,\n 400,\n 440,\n 1,\n 1076,\n 1301,\n 1209,\n 58,\n 29,\n 0,\n 2165,\n 101,\n 524,\n 110,\n 1760,\n 1,\n 311,\n 388,\n 84,\n 375,\n 604,\n 0,\n 558,\n 569,\n 322,\n 766,\n 1341,\n 1,\n 2166,\n 718,\n 895,\n 74,\n 509,\n 0,\n 513,\n 737,\n 809,\n 546,\n 1488,\n 1,\n 348,\n 1612,\n 249,\n 169,\n 686,\n 0,\n 1732,\n 351,\n 476,\n 264,\n 395,\n 1,\n 766,\n 753,\n 582,\n 409,\n 604,\n 0,\n 52,\n 72,\n 594,\n 25,\n 134,\n 1,\n 649,\n 345,\n 1047,\n 28,\n 1058,\n 0,\n 511,\n 279,\n 667,\n 120,\n 818,\n 1,\n 55,\n 737,\n 556,\n 1393,\n 96,\n 0,\n 1171,\n 573,\n 138,\n 127,\n 2129,\n 1,\n 264,\n 1162,\n 1006,\n 1033,\n 1375,\n 0,\n 868,\n 836,\n 424,\n 74,\n 912,\n 1,\n 592,\n 800,\n 357,\n 223,\n 20,\n 0,\n 310,\n 904,\n 652,\n 21,\n 837,\n 1,\n 122,\n 439,\n 522,\n 231,\n 567,\n 0,\n 30,\n 203,\n 41,\n 581,\n 1049,\n 1,\n 27,\n 49,\n 2474,\n 2042,\n 520,\n 0,\n 100,\n 233,\n 718,\n 884,\n 220,\n 1,\n 106,\n 917,\n 55,\n 264,\n 313,\n 0,\n 408,\n 1997,\n 165,\n 304,\n 932,\n 1,\n 1591,\n 207,\n 13,\n 649,\n 415,\n 0,\n 811,\n 67,\n 157,\n 18,\n 659,\n 1,\n 480,\n 1780,\n 152,\n 19,\n 328,\n 0,\n 604,\n 72,\n 1192,\n 34,\n 2069,\n 1,\n 297,\n 722,\n 1869,\n 237,\n 173,\n 0,\n 138,\n 39,\n 476,\n 440,\n 218,\n 1,\n 84,\n 13,\n 307,\n 528,\n 714,\n 0,\n 119,\n 915,\n 23,\n 126,\n 217,\n 1,\n 34,\n 122,\n 397,\n 189,\n 273,\n 0,\n 678,\n 29,\n 1002,\n 268,\n 561,\n 1,\n 3203,\n 2485,\n 1313,\n 447,\n 98,\n 0,\n 111,\n 600,\n 602,\n 21,\n 783,\n 1,\n 484,\n 223,\n 1104,\n 1124,\n 387,\n 0,\n 52,\n 18,\n 613,\n 78,\n 108,\n 1,\n 476,\n 169,\n 170,\n 745,\n 226,\n 0,\n 264,\n 1162,\n 587,\n 127,\n 537,\n 1,\n 78,\n 114,\n 683,\n 21,\n 2678,\n 0,\n 408,\n 4680,\n 457,\n 931,\n 793,\n 1,\n 94,\n 542,\n 289,\n 1044,\n 653,\n 0,\n 4,\n 1634,\n 2307,\n 71,\n 128,\n 1,\n 51,\n 761,\n 126,\n 1244,\n 236,\n 0,\n 546,\n 190,\n 268,\n 820,\n 1623,\n 1,\n 641,\n 335,\n 476,\n 718,\n 300,\n 0,\n 9,\n 16,\n 113,\n 1702,\n 1818,\n 1,\n 303,\n 931,\n 812,\n 92,\n 496,\n 0,\n 2121,\n 264,\n 2701,\n 3046,\n 918,\n 1,\n 968,\n 452,\n 365,\n 287,\n 320,\n 0,\n 1096,\n 642,\n 29,\n 189,\n 997,\n 1,\n 15,\n 549,\n 20,\n 674,\n 1831,\n 0,\n 454,\n 50,\n 288,\n 242,\n 182,\n 1,\n 270,\n 737,\n 165,\n 430,\n 591,\n 0,\n 414,\n 154,\n 115,\n 34,\n 639,\n 1,\n 953,\n 3,\n 1417,\n 95,\n 1314,\n 0,\n 1613,\n 1941,\n 292,\n 710,\n 402,\n 1,\n 102,\n 135,\n 911,\n 2807,\n 1397,\n 0,\n 1426,\n 87,\n 408,\n 496,\n 791,\n 1,\n 7,\n 65,\n 1260,\n 54,\n 837,\n 0,\n 375,\n 46,\n 1812,\n 913,\n 1020,\n 1,\n 334,\n 26,\n 2573,\n 895,\n 1361,\n 0,\n 249,\n 1221,\n 93,\n 1143,\n 1014,\n 1,\n 1986,\n 1123,\n 2541,\n 1283,\n 1402,\n 0,\n 58,\n 1826,\n 2176,\n 2108,\n 718,\n 1,\n 14,\n 11,\n 895,\n 170,\n 1288,\n 0,\n 10,\n 8,\n 209,\n 149,\n 1029,\n 1,\n 791,\n 431,\n 2590,\n 510,\n 1892,\n 0,\n 138,\n 1893,\n 21,\n 284,\n 969,\n 1]"
     },
     "execution_count": 166,
     "metadata": {},
     "output_type": "execute_result"
    }
   ],
   "source": [
    "np.array(data[0]).shape\n",
    "data[0][0]"
   ],
   "metadata": {
    "collapsed": false,
    "pycharm": {
     "name": "#%%\n"
    }
   }
  },
  {
   "cell_type": "code",
   "execution_count": 173,
   "outputs": [
    {
     "name": "stdout",
     "output_type": "stream",
     "text": [
      "[[603, 241, 899, 1686, 0, 169, 335, 809, 457, 1, 129, 398, 136, 312, 0, 355, 2310, 382, 344, 1, 288, 530, 59, 26, 0, 382, 58, 1433, 242, 1, 2787, 154, 1869, 20, 0, 1561, 815, 49, 24, 1], [172, 220, 1841, 172, 172, 117, 106, 0, 172, 332, 123, 26, 26, 6, 1302, 1, 220, 111, 26, 223, 184, 161, 65, 0, 39, 609, 1935, 19, 4, 328, 31, 0, 28, 82, 50, 121, 177, 69, 36, 1]]\n"
     ]
    },
    {
     "data": {
      "text/plain": "[92, 63]"
     },
     "execution_count": 173,
     "metadata": {},
     "output_type": "execute_result"
    }
   ],
   "source": [
    "new_data, new_label = [], []\n",
    "for i in range(len(label)):\n",
    "    if(is_famous[i]):\n",
    "        # new_data.append(np.array(data[i][0], dtype=int))\n",
    "        # new_label.append(np.array(label[i], dtype=int))\n",
    "        new_data.append(data[i][0])\n",
    "        new_label.append(label[i])\n",
    "assert len(new_data) == len(new_label)\n",
    "len(new_data)\n",
    "print(new_data[0:2])\n",
    "new_label[0:2]"
   ],
   "metadata": {
    "collapsed": false,
    "pycharm": {
     "name": "#%%\n"
    }
   }
  },
  {
   "cell_type": "code",
   "execution_count": 174,
   "outputs": [
    {
     "ename": "ValueError",
     "evalue": "setting an array element with a sequence. The requested array has an inhomogeneous shape after 1 dimensions. The detected shape was (29847,) + inhomogeneous part.",
     "output_type": "error",
     "traceback": [
      "\u001B[1;31m---------------------------------------------------------------------------\u001B[0m",
      "\u001B[1;31mValueError\u001B[0m                                Traceback (most recent call last)",
      "Input \u001B[1;32mIn [174]\u001B[0m, in \u001B[0;36m<cell line: 1>\u001B[1;34m()\u001B[0m\n\u001B[1;32m----> 1\u001B[0m new_data, new_label \u001B[38;5;241m=\u001B[39m \u001B[43mnp\u001B[49m\u001B[38;5;241;43m.\u001B[39;49m\u001B[43marray\u001B[49m\u001B[43m(\u001B[49m\u001B[43mnew_data\u001B[49m\u001B[43m,\u001B[49m\u001B[43m \u001B[49m\u001B[38;5;28;43mint\u001B[39;49m\u001B[43m)\u001B[49m, np\u001B[38;5;241m.\u001B[39marray(new_label, \u001B[38;5;28mint\u001B[39m)\n\u001B[0;32m      2\u001B[0m \u001B[38;5;28;01massert\u001B[39;00m \u001B[38;5;28mlen\u001B[39m(new_data) \u001B[38;5;241m==\u001B[39m \u001B[38;5;28mlen\u001B[39m(new_label)\n\u001B[0;32m      3\u001B[0m \u001B[38;5;28mprint\u001B[39m(\u001B[38;5;28mlen\u001B[39m(new_data))\n",
      "\u001B[1;31mValueError\u001B[0m: setting an array element with a sequence. The requested array has an inhomogeneous shape after 1 dimensions. The detected shape was (29847,) + inhomogeneous part."
     ]
    }
   ],
   "source": [
    "new_data, new_label = np.array(new_data, int), np.array(new_label, int)\n",
    "assert len(new_data) == len(new_label)\n",
    "print(len(new_data))\n",
    "new_data.shape # 不齐次，所以转不了！！"
   ],
   "metadata": {
    "collapsed": false,
    "pycharm": {
     "name": "#%%\n"
    }
   }
  },
  {
   "cell_type": "code",
   "execution_count": 130,
   "outputs": [],
   "source": [
    "from sklearn.model_selection import train_test_split\n",
    "# train_x,test_x,train_y,test_y = train_test_split(data, label, test_size = 0.2,random_state = 32, stratify=label)\n",
    "train_x,test_x,train_y,test_y = train_test_split(new_data, new_label, test_size = 0.2,random_state = 32, stratify=new_label)\n"
   ],
   "metadata": {
    "collapsed": false,
    "pycharm": {
     "name": "#%%\n"
    }
   }
  },
  {
   "cell_type": "code",
   "execution_count": 131,
   "outputs": [
    {
     "name": "stdout",
     "output_type": "stream",
     "text": [
      "(23877, 1)\n",
      "[list([1309, 1309, 186, 1309, 1309, 0, 1217, 1487, 27, 32, 1445, 1, 42, 97, 17, 194, 336, 0, 1187, 1149, 240, 456, 688, 1, 1071, 80, 1318, 1501, 250, 0, 428, 18, 287, 346, 1224, 1, 52, 852, 5, 427, 1173, 0, 127, 270, 864, 4, 965, 1])]\n"
     ]
    },
    {
     "data": {
      "text/plain": "array([70, 72, 30, ...,  4, 29, 63])"
     },
     "execution_count": 131,
     "metadata": {},
     "output_type": "execute_result"
    }
   ],
   "source": [
    "print(train_x.shape)\n",
    "print(train_x[0])\n",
    "test_y"
   ],
   "metadata": {
    "collapsed": false,
    "pycharm": {
     "name": "#%%\n"
    }
   }
  },
  {
   "cell_type": "code",
   "execution_count": 132,
   "outputs": [
    {
     "name": "stdout",
     "output_type": "stream",
     "text": [
      "<class 'numpy.ndarray'>\n",
      "object\n"
     ]
    },
    {
     "data": {
      "text/plain": "dtype('int32')"
     },
     "execution_count": 132,
     "metadata": {},
     "output_type": "execute_result"
    }
   ],
   "source": [
    "print(type(train_x))\n",
    "print(train_x.dtype)\n",
    "test_y.dtype"
   ],
   "metadata": {
    "collapsed": false,
    "pycharm": {
     "name": "#%%\n"
    }
   }
  },
  {
   "cell_type": "code",
   "execution_count": null,
   "outputs": [],
   "source": [],
   "metadata": {
    "collapsed": false,
    "pycharm": {
     "name": "#%%\n"
    }
   }
  },
  {
   "cell_type": "code",
   "execution_count": 133,
   "outputs": [],
   "source": [
    "np.savez('唐诗处理后数据集', train_x=train_x,test_x=test_x,train_y=train_y,test_y=test_y)"
   ],
   "metadata": {
    "collapsed": false,
    "pycharm": {
     "name": "#%%\n"
    }
   }
  },
  {
   "cell_type": "code",
   "execution_count": 136,
   "outputs": [
    {
     "name": "stdout",
     "output_type": "stream",
     "text": [
      "['train_x', 'test_x', 'train_y', 'test_y']\n"
     ]
    },
    {
     "data": {
      "text/plain": "array([[list([1309, 1309, 186, 1309, 1309, 0, 1217, 1487, 27, 32, 1445, 1, 42, 97, 17, 194, 336, 0, 1187, 1149, 240, 456, 688, 1, 1071, 80, 1318, 1501, 250, 0, 428, 18, 287, 346, 1224, 1, 52, 852, 5, 427, 1173, 0, 127, 270, 864, 4, 965, 1])],\n       [list([87, 852, 265, 18, 29, 0, 1590, 568, 59, 27, 67, 1, 39, 22, 691, 7, 130, 0, 548, 120, 433, 156, 308, 1, 69, 337, 1885, 611, 194, 0, 56, 337, 1827, 1157, 736, 1, 66, 646, 91, 259, 1480, 0, 386, 646, 417, 156, 645, 1])],\n       [list([27, 32, 933, 1682, 182, 0, 1975, 2023, 469, 790, 2803, 1, 243, 465, 195, 367, 1341, 0, 43, 337, 177, 1023, 596, 1, 132, 752, 1515, 60, 238, 0, 794, 849, 672, 362, 655, 1, 403, 3250, 344, 394, 269, 0, 74, 282, 6, 2502, 95, 1])],\n       ...,\n       [list([1647, 363, 264, 0, 1647, 363, 264, 0, 161, 71, 1452, 2722, 178, 78, 675, 1, 94, 687, 909, 762, 439, 1633, 1633, 0, 182, 7, 2954, 108, 25, 15, 130, 0, 73, 1151, 421, 30, 259, 6, 157, 1, 260, 253, 268, 913, 683, 331, 925, 0, 567, 194, 74, 151, 231, 1146, 673, 0, 473, 869, 15, 571, 488, 238, 948, 1, 664, 1211, 350, 420, 524, 642, 545, 0, 128, 199, 71, 577, 27, 624, 1554, 0, 1239, 1277, 3133, 529, 308, 292, 301, 1, 798, 254, 73, 125, 88, 472, 234, 0, 1393, 125, 657, 321, 803, 69, 595, 0, 89, 58, 229, 107, 111, 179, 1602, 1, 919, 1156, 307, 389, 146, 7, 342, 0, 30, 111, 30, 84, 9, 2, 13, 0, 5, 79, 141, 7, 449, 255, 768, 1, 8, 703, 270, 116, 210, 444, 1429, 0, 214, 109, 26, 60, 507, 1269, 840, 0, 3209, 53, 320, 26, 26, 858, 1450, 1, 55, 246, 799, 2167, 40, 23, 2990, 0, 15, 7, 47, 0, 127, 626, 625, 1, 104, 475, 658, 534, 1191, 510, 571, 0, 1555, 327, 1647, 363, 1702, 925, 130, 1, 192, 119, 472, 234, 368, 30, 46, 0, 105, 188, 352, 35, 507, 2248, 3359, 1])],\n       [list([25, 880, 189, 111, 473, 647, 58, 0, 118, 35, 33, 670, 329, 153, 268, 1, 1409, 95, 386, 2247, 438, 46, 62, 0, 988, 112, 381, 1001, 105, 222, 614, 0, 386, 1099, 1273, 32, 463, 175, 158, 1])],\n       [list([224, 63, 37, 149, 438, 0, 1498, 726, 321, 747, 1504, 1, 668, 689, 212, 117, 1394, 0, 476, 385, 301, 6, 433, 1, 502, 121, 209, 99, 1235, 0, 104, 46, 297, 1137, 1373, 1, 151, 40, 81, 70, 32, 0, 252, 399, 52, 325, 1225, 1, 102, 19, 94, 233, 486, 0, 217, 36, 89, 12, 173, 1, 346, 608, 29, 19, 65, 0, 649, 3134, 630, 20, 276, 1, 6, 44, 105, 46, 7, 0, 248, 190, 1897, 3081, 2441, 1])]],\n      dtype=object)"
     },
     "execution_count": 136,
     "metadata": {},
     "output_type": "execute_result"
    }
   ],
   "source": [
    "with np.load('唐诗处理后数据集.npz', allow_pickle=True) as data:\n",
    "    print(data.files)\n",
    "    train_x,test_x,train_y,test_y = data['train_x'], data['test_x'], data['train_y'], data['test_y']\n",
    "train_x"
   ],
   "metadata": {
    "collapsed": false,
    "pycharm": {
     "name": "#%%\n"
    }
   }
  }
 ],
 "metadata": {
  "kernelspec": {
   "display_name": "Python 3",
   "language": "python",
   "name": "python3"
  },
  "language_info": {
   "codemirror_mode": {
    "name": "ipython",
    "version": 2
   },
   "file_extension": ".py",
   "mimetype": "text/x-python",
   "name": "python",
   "nbconvert_exporter": "python",
   "pygments_lexer": "ipython2",
   "version": "2.7.6"
  }
 },
 "nbformat": 4,
 "nbformat_minor": 0
}