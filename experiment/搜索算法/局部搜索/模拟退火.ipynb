{
 "cells": [
  {
   "cell_type": "code",
   "execution_count": 24,
   "outputs": [
    {
     "data": {
      "text/plain": "[1800, 2520, 3360, 4320, 5400, 6600, 7920, 9360, 10920, 12600, 14400, 16320]"
     },
     "execution_count": 24,
     "metadata": {},
     "output_type": "execute_result"
    }
   ],
   "source": [
    "import linear_model as model\n",
    "import src.project1.submit.AI as ai\n",
    "from experiment.评估函数.simulator import Simulator\n",
    "from experiment.评估函数.greedy_ai import GreedyAI\n",
    "from experiment.评估函数.greedys import *\n",
    "import numpy as np\n",
    "\n",
    "chessboard_size = 8\n",
    "time_out = 5\n",
    "\n",
    "\n",
    "def greedy_fun(Vars):\n",
    "    PVT, PVT_max = model.get_PVT_and_max(Vars)\n",
    "    return lambda a, p: model.value_of_positions(a.reversi_env.updated_chessboard(a.chessboard, a.color, p), a.color,\n",
    "                                                 PVT, PVT_max)\n",
    "\n",
    "\n",
    "baselines = [random_baseline, middle_action_first, map_weight_sum, map_weight_sum2]\n",
    "baseline_cnt = len(baselines)\n",
    "# 注意时间复杂度不要太高\n",
    "落子次数 = lambda x : (baseline_cnt + x) * (baseline_cnt-1 + x) * 60\n",
    "[落子次数(i) for i in range(2, 14)]  # 已知落子 60*30 = 1800 需要1.59276s\n",
    "# 选择15s 一个温度，有 10000次以上，"
   ],
   "metadata": {
    "collapsed": false,
    "pycharm": {
     "name": "#%%\n"
    }
   }
  },
  {
   "cell_type": "code",
   "execution_count": 14,
   "outputs": [],
   "source": [
    "import random\n",
    "\n",
    "\n",
    "def simulated_annealing(state, T=1, log_interval=10, neighbour_cnt=10):\n",
    "    t = 0  # time step\n",
    "    f = []  # a recording of values\n",
    "    while T >= 1e-7:\n",
    "        vars_list = model.neighbours_continuous(state, -1, 1, 0.1, neighbour_cnt)\n",
    "        funcs = baselines + list(map(greedy_fun, vars_list))\n",
    "        length = len(funcs)\n",
    "        matches = 2/2*length*(length-1)\n",
    "        scores = np.zeros(length)\n",
    "        for i in range(length):\n",
    "            for j in range(i + 1, length):\n",
    "                for i_color in [ai.COLOR_BLACK, ai.COLOR_WHITE]:\n",
    "                    agents = {i_color: GreedyAI(chessboard_size, i_color, funcs[i]),\n",
    "                              -i_color: GreedyAI(chessboard_size, -i_color, funcs[j])}\n",
    "                    simulator = Simulator(chessboard_size, time_out, agents)\n",
    "                    winner = simulator.quick_run(no_print=True)\n",
    "                    if winner == i_color:\n",
    "                        scores[i] += 1\n",
    "                    elif winner == -i_color:\n",
    "                        scores[j] += 1\n",
    "        diff = np.inf\n",
    "        new_idx = -1\n",
    "        new_value = np.nan\n",
    "        while not (diff > 0 or np.exp(diff / T) > np.random.uniform()):\n",
    "            new_idx = random.randint(1, neighbour_cnt)\n",
    "            new_value = scores[new_idx]\n",
    "            diff = new_value - scores[0]\n",
    "\n",
    "        state = vars_list[new_idx]\n",
    "        f.append(new_value)\n",
    "        # update time and temperature\n",
    "        if t % log_interval == 0:\n",
    "            print(f\"step {t}: T={T}, current_value={scores[new_idx]/matches}\")\n",
    "        t += 1\n",
    "        T = 0.999 ** t\n",
    "    print(f\"step {t}: T={T}, current_value={scores[new_idx]/matches}\")\n",
    "    return state, f"
   ],
   "metadata": {
    "collapsed": false,
    "pycharm": {
     "name": "#%%\n"
    }
   }
  },
  {
   "cell_type": "code",
   "execution_count": 25,
   "outputs": [
    {
     "name": "stdout",
     "output_type": "stream",
     "text": [
      "step 0: T=1, current_value=0.029411764705882353\n",
      "step 10: T=0.9900448802097482, current_value=0.03594771241830065\n"
     ]
    },
    {
     "ename": "KeyboardInterrupt",
     "evalue": "",
     "output_type": "error",
     "traceback": [
      "\u001B[1;31m---------------------------------------------------------------------------\u001B[0m",
      "\u001B[1;31mKeyboardInterrupt\u001B[0m                         Traceback (most recent call last)",
      "Input \u001B[1;32mIn [25]\u001B[0m, in \u001B[0;36m<cell line: 4>\u001B[1;34m()\u001B[0m\n\u001B[0;32m      1\u001B[0m \u001B[38;5;28;01mimport\u001B[39;00m \u001B[38;5;21;01mmatplotlib\u001B[39;00m\u001B[38;5;21;01m.\u001B[39;00m\u001B[38;5;21;01mpyplot\u001B[39;00m \u001B[38;5;28;01mas\u001B[39;00m \u001B[38;5;21;01mplt\u001B[39;00m\n\u001B[0;32m      3\u001B[0m \u001B[38;5;66;03m# define your own schedule and halt condition\u001B[39;00m\n\u001B[1;32m----> 4\u001B[0m solution, record \u001B[38;5;241m=\u001B[39m \u001B[43msimulated_annealing\u001B[49m\u001B[43m(\u001B[49m\n\u001B[0;32m      5\u001B[0m \u001B[43m    \u001B[49m\u001B[43mnp\u001B[49m\u001B[38;5;241;43m.\u001B[39;49m\u001B[43marray\u001B[49m\u001B[43m(\u001B[49m\u001B[43m[\u001B[49m\u001B[38;5;241;43m0.58294678\u001B[39;49m\u001B[43m,\u001B[49m\u001B[43m \u001B[49m\u001B[38;5;241;43m0.32422638\u001B[39;49m\u001B[43m,\u001B[49m\u001B[43m \u001B[49m\u001B[38;5;241;43m0.30072021\u001B[39;49m\u001B[43m,\u001B[49m\u001B[43m \u001B[49m\u001B[38;5;241;43m0.04949951\u001B[39;49m\u001B[43m,\u001B[49m\u001B[43m \u001B[49m\u001B[38;5;241;43m0.74310493\u001B[39;49m\u001B[43m,\u001B[49m\n\u001B[0;32m      6\u001B[0m \u001B[43m               \u001B[49m\u001B[38;5;241;43m0.26721382\u001B[39;49m\u001B[43m,\u001B[49m\u001B[43m \u001B[49m\u001B[38;5;241;43m0.05133057\u001B[39;49m\u001B[43m,\u001B[49m\u001B[43m \u001B[49m\u001B[38;5;241;43m0.72602844\u001B[39;49m\u001B[43m,\u001B[49m\u001B[43m \u001B[49m\u001B[38;5;241;43m-\u001B[39;49m\u001B[38;5;241;43m0.12939453\u001B[39;49m\u001B[43m,\u001B[49m\u001B[43m \u001B[49m\u001B[38;5;241;43m-\u001B[39;49m\u001B[38;5;241;43m0.73083496\u001B[39;49m\u001B[43m]\u001B[49m\u001B[43m)\u001B[49m\n\u001B[0;32m      7\u001B[0m \u001B[43m    \u001B[49m\u001B[43m,\u001B[49m\u001B[43mneighbour_cnt\u001B[49m\u001B[38;5;241;43m=\u001B[39;49m\u001B[38;5;241;43m13\u001B[39;49m\n\u001B[0;32m      8\u001B[0m \u001B[43m)\u001B[49m\n\u001B[0;32m      9\u001B[0m solution\n",
      "Input \u001B[1;32mIn [14]\u001B[0m, in \u001B[0;36msimulated_annealing\u001B[1;34m(state, T, log_interval, neighbour_cnt)\u001B[0m\n\u001B[0;32m     16\u001B[0m agents \u001B[38;5;241m=\u001B[39m {i_color: GreedyAI(chessboard_size, i_color, funcs[i]),\n\u001B[0;32m     17\u001B[0m           \u001B[38;5;241m-\u001B[39mi_color: GreedyAI(chessboard_size, \u001B[38;5;241m-\u001B[39mi_color, funcs[j])}\n\u001B[0;32m     18\u001B[0m simulator \u001B[38;5;241m=\u001B[39m Simulator(chessboard_size, time_out, agents)\n\u001B[1;32m---> 19\u001B[0m winner \u001B[38;5;241m=\u001B[39m \u001B[43msimulator\u001B[49m\u001B[38;5;241;43m.\u001B[39;49m\u001B[43mquick_run\u001B[49m\u001B[43m(\u001B[49m\u001B[43mno_print\u001B[49m\u001B[38;5;241;43m=\u001B[39;49m\u001B[38;5;28;43;01mTrue\u001B[39;49;00m\u001B[43m)\u001B[49m\n\u001B[0;32m     20\u001B[0m \u001B[38;5;28;01mif\u001B[39;00m winner \u001B[38;5;241m==\u001B[39m i_color:\n\u001B[0;32m     21\u001B[0m     scores[i] \u001B[38;5;241m+\u001B[39m\u001B[38;5;241m=\u001B[39m \u001B[38;5;241m1\u001B[39m\n",
      "File \u001B[1;32mD:\\SUSTech-CS303_311-Artificial-Intelligence-Project\\experiment\\评估函数\\simulator.py:44\u001B[0m, in \u001B[0;36mSimulator.quick_run\u001B[1;34m(self, accountants, no_print)\u001B[0m\n\u001B[0;32m     42\u001B[0m     \u001B[38;5;28;01mfor\u001B[39;00m accountant \u001B[38;5;129;01min\u001B[39;00m accountants:\n\u001B[0;32m     43\u001B[0m         accountant(\u001B[38;5;28mself\u001B[39m\u001B[38;5;241m.\u001B[39mrounds, \u001B[38;5;28mself\u001B[39m\u001B[38;5;241m.\u001B[39mcurrent_color, \u001B[38;5;28mself\u001B[39m\u001B[38;5;241m.\u001B[39mcurrent_chessboard, \u001B[38;5;28mself\u001B[39m\u001B[38;5;241m.\u001B[39magents)\n\u001B[1;32m---> 44\u001B[0m     \u001B[38;5;28;43mself\u001B[39;49m\u001B[38;5;241;43m.\u001B[39;49m\u001B[43mquick_step\u001B[49m\u001B[43m(\u001B[49m\u001B[43mno_print\u001B[49m\u001B[43m)\u001B[49m\n\u001B[0;32m     46\u001B[0m \u001B[38;5;28;01mreturn\u001B[39;00m ai\u001B[38;5;241m.\u001B[39mget_winner(\u001B[38;5;28mself\u001B[39m\u001B[38;5;241m.\u001B[39mcurrent_chessboard)\n",
      "File \u001B[1;32mD:\\SUSTech-CS303_311-Artificial-Intelligence-Project\\experiment\\评估函数\\simulator.py:50\u001B[0m, in \u001B[0;36mSimulator.quick_step\u001B[1;34m(self, no_print)\u001B[0m\n\u001B[0;32m     48\u001B[0m \u001B[38;5;28;01mdef\u001B[39;00m \u001B[38;5;21mquick_step\u001B[39m(\u001B[38;5;28mself\u001B[39m, no_print\u001B[38;5;241m=\u001B[39m\u001B[38;5;28;01mFalse\u001B[39;00m):\n\u001B[0;32m     49\u001B[0m     agent \u001B[38;5;241m=\u001B[39m \u001B[38;5;28mself\u001B[39m\u001B[38;5;241m.\u001B[39magents[\u001B[38;5;28mself\u001B[39m\u001B[38;5;241m.\u001B[39mcurrent_color]\n\u001B[1;32m---> 50\u001B[0m     \u001B[43magent\u001B[49m\u001B[38;5;241;43m.\u001B[39;49m\u001B[43mgo\u001B[49m\u001B[43m(\u001B[49m\u001B[38;5;28;43mself\u001B[39;49m\u001B[38;5;241;43m.\u001B[39;49m\u001B[43mcurrent_chessboard\u001B[49m\u001B[43m)\u001B[49m\n\u001B[0;32m     51\u001B[0m     \u001B[38;5;28;01mif\u001B[39;00m \u001B[38;5;28mlen\u001B[39m(agent\u001B[38;5;241m.\u001B[39mcandidate_list) \u001B[38;5;241m!=\u001B[39m \u001B[38;5;241m0\u001B[39m:\n\u001B[0;32m     52\u001B[0m         \u001B[38;5;28mself\u001B[39m\u001B[38;5;241m.\u001B[39mcurrent_chessboard \u001B[38;5;241m=\u001B[39m ai\u001B[38;5;241m.\u001B[39mupdated_chessboard(\u001B[38;5;28mself\u001B[39m\u001B[38;5;241m.\u001B[39mcurrent_chessboard, \u001B[38;5;28mself\u001B[39m\u001B[38;5;241m.\u001B[39mcurrent_color,\n\u001B[0;32m     53\u001B[0m                                                         np\u001B[38;5;241m.\u001B[39marray(agent\u001B[38;5;241m.\u001B[39mcandidate_list[\u001B[38;5;241m-\u001B[39m\u001B[38;5;241m1\u001B[39m]))\n",
      "File \u001B[1;32mD:\\SUSTech-CS303_311-Artificial-Intelligence-Project\\experiment\\评估函数\\greedy_ai.py:23\u001B[0m, in \u001B[0;36mGreedyAI.go\u001B[1;34m(self, chessboard)\u001B[0m\n\u001B[0;32m     21\u001B[0m     \u001B[38;5;28;01mreturn\u001B[39;00m\n\u001B[0;32m     22\u001B[0m \u001B[38;5;28;01melse\u001B[39;00m:\n\u001B[1;32m---> 23\u001B[0m     decision \u001B[38;5;241m=\u001B[39m \u001B[38;5;28;43mmax\u001B[39;49m\u001B[43m(\u001B[49m\u001B[38;5;28;43mself\u001B[39;49m\u001B[38;5;241;43m.\u001B[39;49m\u001B[43mcandidate_list\u001B[49m\u001B[43m,\u001B[49m\u001B[43m \u001B[49m\u001B[43mkey\u001B[49m\u001B[38;5;241;43m=\u001B[39;49m\u001B[38;5;28;43;01mlambda\u001B[39;49;00m\u001B[43m \u001B[49m\u001B[43mp\u001B[49m\u001B[43m:\u001B[49m\u001B[43m \u001B[49m\u001B[38;5;28;43mself\u001B[39;49m\u001B[38;5;241;43m.\u001B[39;49m\u001B[43mevaluator\u001B[49m\u001B[43m(\u001B[49m\u001B[38;5;28;43mself\u001B[39;49m\u001B[43m,\u001B[49m\u001B[43m \u001B[49m\u001B[43mp\u001B[49m\u001B[43m)\u001B[49m\u001B[43m)\u001B[49m\n\u001B[0;32m     24\u001B[0m     \u001B[38;5;28mself\u001B[39m\u001B[38;5;241m.\u001B[39mexecute_decision(decision)\n",
      "File \u001B[1;32mD:\\SUSTech-CS303_311-Artificial-Intelligence-Project\\experiment\\评估函数\\greedy_ai.py:23\u001B[0m, in \u001B[0;36mGreedyAI.go.<locals>.<lambda>\u001B[1;34m(p)\u001B[0m\n\u001B[0;32m     21\u001B[0m     \u001B[38;5;28;01mreturn\u001B[39;00m\n\u001B[0;32m     22\u001B[0m \u001B[38;5;28;01melse\u001B[39;00m:\n\u001B[1;32m---> 23\u001B[0m     decision \u001B[38;5;241m=\u001B[39m \u001B[38;5;28mmax\u001B[39m(\u001B[38;5;28mself\u001B[39m\u001B[38;5;241m.\u001B[39mcandidate_list, key\u001B[38;5;241m=\u001B[39m\u001B[38;5;28;01mlambda\u001B[39;00m p: \u001B[38;5;28;43mself\u001B[39;49m\u001B[38;5;241;43m.\u001B[39;49m\u001B[43mevaluator\u001B[49m\u001B[43m(\u001B[49m\u001B[38;5;28;43mself\u001B[39;49m\u001B[43m,\u001B[49m\u001B[43m \u001B[49m\u001B[43mp\u001B[49m\u001B[43m)\u001B[49m)\n\u001B[0;32m     24\u001B[0m     \u001B[38;5;28mself\u001B[39m\u001B[38;5;241m.\u001B[39mexecute_decision(decision)\n",
      "File \u001B[1;32mD:\\SUSTech-CS303_311-Artificial-Intelligence-Project\\experiment\\评估函数\\greedys.py:43\u001B[0m, in \u001B[0;36mmap_weight_sum2\u001B[1;34m(a, p)\u001B[0m\n\u001B[0;32m     42\u001B[0m \u001B[38;5;28;01mdef\u001B[39;00m \u001B[38;5;21mmap_weight_sum2\u001B[39m(a, p):\n\u001B[1;32m---> 43\u001B[0m     new_chessboard \u001B[38;5;241m=\u001B[39m \u001B[43ma\u001B[49m\u001B[38;5;241;43m.\u001B[39;49m\u001B[43mreversi_env\u001B[49m\u001B[38;5;241;43m.\u001B[39;49m\u001B[43mupdated_chessboard\u001B[49m\u001B[43m(\u001B[49m\u001B[43ma\u001B[49m\u001B[38;5;241;43m.\u001B[39;49m\u001B[43mchessboard\u001B[49m\u001B[43m,\u001B[49m\u001B[43m \u001B[49m\u001B[43ma\u001B[49m\u001B[38;5;241;43m.\u001B[39;49m\u001B[43mcolor\u001B[49m\u001B[43m,\u001B[49m\u001B[43m \u001B[49m\u001B[43mp\u001B[49m\u001B[43m)\u001B[49m\n\u001B[0;32m     44\u001B[0m     \u001B[38;5;28;01mreturn\u001B[39;00m _map_weight_sum2(new_chessboard, a\u001B[38;5;241m.\u001B[39mcolor)\n",
      "File \u001B[1;32mD:\\SUSTech-CS303_311-Artificial-Intelligence-Project\\experiment\\old_ai\\AI.py:29\u001B[0m, in \u001B[0;36mReversiEnv.updated_chessboard\u001B[1;34m(self, chessboard, color, index)\u001B[0m\n\u001B[0;32m     28\u001B[0m \u001B[38;5;28;01mdef\u001B[39;00m \u001B[38;5;21mupdated_chessboard\u001B[39m(\u001B[38;5;28mself\u001B[39m, chessboard, color, index: np\u001B[38;5;241m.\u001B[39mndarray) \u001B[38;5;241m-\u001B[39m\u001B[38;5;241m>\u001B[39m np\u001B[38;5;241m.\u001B[39mndarray:\n\u001B[1;32m---> 29\u001B[0m     new_chessboard \u001B[38;5;241m=\u001B[39m \u001B[43mchessboard\u001B[49m\u001B[38;5;241;43m.\u001B[39;49m\u001B[43mcopy\u001B[49m\u001B[43m(\u001B[49m\u001B[43m)\u001B[49m\n\u001B[0;32m     30\u001B[0m     \u001B[38;5;28;01mfor\u001B[39;00m direction \u001B[38;5;129;01min\u001B[39;00m ReversiEnv\u001B[38;5;241m.\u001B[39mudlr_luruldrd:\n\u001B[0;32m     31\u001B[0m         neighbour \u001B[38;5;241m=\u001B[39m index \u001B[38;5;241m+\u001B[39m direction\n",
      "\u001B[1;31mKeyboardInterrupt\u001B[0m: "
     ]
    }
   ],
   "source": [
    "import matplotlib.pyplot as plt\n",
    "\n",
    "# define your own schedule and halt condition\n",
    "solution, record = simulated_annealing(\n",
    "    np.array([0.58294678, 0.32422638, 0.30072021, 0.04949951, 0.74310493,\n",
    "               0.26721382, 0.05133057, 0.72602844, -0.12939453, -0.73083496])\n",
    "    ,neighbour_cnt=13\n",
    ")\n",
    "solution"
   ],
   "metadata": {
    "collapsed": false,
    "pycharm": {
     "name": "#%%\n"
    }
   }
  },
  {
   "cell_type": "code",
   "execution_count": null,
   "outputs": [],
   "source": [
    "# visualize the curve\n",
    "plt.plot(record)\n",
    "plt.xlabel(\"time step\")\n",
    "plt.ylabel(\"value\")"
   ],
   "metadata": {
    "collapsed": false,
    "pycharm": {
     "name": "#%%\n"
    }
   }
  },
  {
   "cell_type": "markdown",
   "metadata": {
    "pycharm": {
     "name": "#%% md\n"
    }
   },
   "source": [
    "## Deprecated: "
   ]
  },
  {
   "cell_type": "code",
   "execution_count": null,
   "metadata": {
    "collapsed": false,
    "pycharm": {
     "name": "#%%\n"
    }
   },
   "outputs": [],
   "source": [
    "def imerge(a, b):\n",
    "    i1 = iter(a)\n",
    "    i2 = iter(b)\n",
    "    while True:\n",
    "        try:\n",
    "            yield i1.next()\n",
    "            yield i2.next()\n",
    "        except StopIteration:\n",
    "            return\n",
    "\n",
    "\n",
    "for i in imerge(range(10), range(8)):\n",
    "    print(i)"
   ]
  },
  {
   "cell_type": "code",
   "execution_count": null,
   "metadata": {
    "collapsed": false,
    "pycharm": {
     "name": "#%%\n"
    }
   },
   "outputs": [],
   "source": [
    "def schedule(t):\n",
    "    T = 1000\n",
    "    while True:\n",
    "        yield T\n",
    "        T *= 0.98\n",
    "\n",
    "\n",
    "def simulated_annealing(InitialVars, rounds):\n",
    "    current = InitialVars\n",
    "    for t in range(rounds):\n",
    "        T = schedule(t)\n",
    "        if T <= 10:\n",
    "            return current\n",
    "        for var in imerge(current, model.neighbours(current))\n"
   ]
  }
 ],
 "metadata": {
  "kernelspec": {
   "display_name": "Python 3",
   "language": "python",
   "name": "python3"
  },
  "language_info": {
   "codemirror_mode": {
    "name": "ipython",
    "version": 2
   },
   "file_extension": ".py",
   "mimetype": "text/x-python",
   "name": "python",
   "nbconvert_exporter": "python",
   "pygments_lexer": "ipython2",
   "version": "2.7.6"
  }
 },
 "nbformat": 4,
 "nbformat_minor": 0
}