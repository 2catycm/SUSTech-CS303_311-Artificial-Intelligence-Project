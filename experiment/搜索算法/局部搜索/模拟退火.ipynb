{
 "cells": [
  {
   "cell_type": "code",
   "execution_count": null,
   "metadata": {
    "collapsed": true,
    "pycharm": {
     "name": "#%%\n"
    }
   },
   "outputs": [],
   "source": [
    "import numpy as np\n",
    "import linear_model as model\n",
    "from experiment.评估函数.simulator import Simulator"
   ]
  },
  {
   "cell_type": "code",
   "execution_count": null,
   "outputs": [],
   "source": [
    "def objective_functions(vars):\n",
    "    "
   ],
   "metadata": {
    "collapsed": false,
    "pycharm": {
     "name": "#%%\n"
    }
   }
  },
  {
   "cell_type": "code",
   "execution_count": null,
   "outputs": [],
   "source": [
    "def simulated_annealing(initial, schedule, halt, log_interval=200):\n",
    "    state = initial\n",
    "    t = 0           # time step\n",
    "    T = schedule(t) # temperature\n",
    "    f = [state.value()] # a recording of values\n",
    "    old_value = state.value()\n",
    "    while not halt(T):\n",
    "        T = schedule(t)\n",
    "        diff = np.inf\n",
    "        while not( diff<0 or np.exp(-diff/T)>np.random.uniform()):\n",
    "            new_state = state.local_search()\n",
    "            new_value = new_state.value()\n",
    "            diff = new_value - old_value\n",
    "\n",
    "        state = new_state\n",
    "        f.append(new_value)\n",
    "        old_value = new_value\n",
    "            \n",
    "        # update time and temperature\n",
    "        if t % log_interval == 0:\n",
    "            print(f\"step {t}: T={T}, current_value={state.value()}\")\n",
    "        t += 1\n",
    "        T = schedule(t)\n",
    "    print(f\"step {t}: T={T}, current_value={state.value()}\")\n",
    "    return state, f"
   ],
   "metadata": {
    "collapsed": false,
    "pycharm": {
     "name": "#%%\n"
    }
   }
  },
  {
   "cell_type": "code",
   "execution_count": null,
   "outputs": [],
   "source": [
    "import matplotlib.pyplot as plt\n",
    "\n",
    "# define your own schedule and halt condition\n",
    "# run the algorithm on different n with different settings\n",
    "# n = 4\n",
    "n = 3\n",
    "solution, record = simulated_annealing(\n",
    "    initial=np.array([1, 8, 3, 7, 3, 2, 5, 6, 6, 4]), \n",
    "    schedule=lambda t: 0.999**t, \n",
    "    halt=lambda T: T<1e-7     # halt when T<1e-7 改成<1e-8就更慢\n",
    ")\n",
    "solution, solution.value()"
   ],
   "metadata": {
    "collapsed": false,
    "pycharm": {
     "name": "#%%\n"
    }
   }
  },
  {
   "cell_type": "code",
   "execution_count": null,
   "outputs": [],
   "source": [
    "# visualize the curve\n",
    "plt.plot(record)\n",
    "plt.xlabel(\"time step\")\n",
    "plt.ylabel(\"value\")"
   ],
   "metadata": {
    "collapsed": false,
    "pycharm": {
     "name": "#%%\n"
    }
   }
  },
  {
   "cell_type": "markdown",
   "source": [
    "## Deprecated: "
   ],
   "metadata": {
    "collapsed": false,
    "pycharm": {
     "name": "#%% md\n"
    }
   }
  },
  {
   "cell_type": "code",
   "execution_count": null,
   "outputs": [],
   "source": [
    "def imerge(a, b):\n",
    "    i1 = iter(a)\n",
    "    i2 = iter(b)\n",
    "    while True:\n",
    "        try:\n",
    "            yield i1.next()\n",
    "            yield i2.next()\n",
    "        except StopIteration:\n",
    "            return\n",
    "for i in imerge(range(10), range(8)):\n",
    "    print(i)"
   ],
   "metadata": {
    "collapsed": false,
    "pycharm": {
     "name": "#%%\n"
    }
   }
  },
  {
   "cell_type": "code",
   "execution_count": null,
   "metadata": {
    "pycharm": {
     "name": "#%%\n"
    }
   },
   "outputs": [],
   "source": [
    "def simulated_annealing(initial, schedule, halt, log_interval=200):\n",
    "    state = initial\n",
    "    t = 0           # time step\n",
    "    T = schedule(t) # temperature\n",
    "    f = [state.value()] # a recording of values\n",
    "    old_value = state.value()\n",
    "    while not halt(T):\n",
    "        T = schedule(t)\n",
    "        diff = np.inf\n",
    "        while not( diff<0 or np.exp(-diff/T)>np.random.uniform()):\n",
    "            new_state = state.local_search()\n",
    "            new_value = new_state.value()\n",
    "            diff = new_value - old_value\n",
    "\n",
    "        state = new_state\n",
    "        f.append(new_value)\n",
    "        old_value = new_value\n",
    "            \n",
    "        # update time and temperature\n",
    "        if t % log_interval == 0:\n",
    "            print(f\"step {t}: T={T}, current_value={state.value()}\")\n",
    "        t += 1\n",
    "        T = schedule(t)\n",
    "    print(f\"step {t}: T={T}, current_value={state.value()}\")\n",
    "    return state, f"
   ]
  },
  {
   "cell_type": "code",
   "execution_count": null,
   "metadata": {
    "pycharm": {
     "name": "#%%\n"
    }
   },
   "outputs": [],
   "source": [
    "import matplotlib.pyplot as plt\n",
    "\n",
    "# define your own schedule and halt condition\n",
    "# run the algorithm on different n with different settings\n",
    "# n = 4\n",
    "n = 3\n",
    "solution, record = simulated_annealing(\n",
    "    initial=np.array([1, 8, 3, 7, 3, 2, 5, 6, 6, 4]), \n",
    "    schedule=lambda t: 0.999**t, \n",
    "    halt=lambda T: T<1e-7     # halt when T<1e-7 改成<1e-8就更慢\n",
    ")\n",
    "solution, solution.value()"
   ]
  },
  {
   "cell_type": "code",
   "execution_count": null,
   "metadata": {
    "pycharm": {
     "name": "#%%\n"
    }
   },
   "outputs": [],
   "source": [
    "# visualize the curve\n",
    "plt.plot(record)\n",
    "plt.xlabel(\"time step\")\n",
    "plt.ylabel(\"value\")"
   ]
  },
  {
   "cell_type": "markdown",
   "metadata": {
    "pycharm": {
     "name": "#%% md\n"
    }
   },
   "source": [
    "## Deprecated: "
   ]
  },
  {
   "cell_type": "code",
   "execution_count": 1,
   "metadata": {
    "collapsed": false,
    "pycharm": {
     "name": "#%%\n"
    }
   },
   "outputs": [],
   "source": [
    "def imerge(a, b):\n",
    "    i1 = iter(a)\n",
    "    i2 = iter(b)\n",
    "    while True:\n",
    "        try:\n",
    "            yield i1.next()\n",
    "            yield i2.next()\n",
    "        except StopIteration:\n",
    "            return\n",
    "for i in imerge(range(10), range(8)):\n",
    "    print(i)"
   ]
  },
  {
   "cell_type": "code",
   "execution_count": null,
   "metadata": {
    "collapsed": false,
    "pycharm": {
     "name": "#%%\n"
    }
   },
   "outputs": [],
   "source": [
    "def schedule(t):\n",
    "    T = 1000\n",
    "    while True:\n",
    "        yield T\n",
    "        T *= 0.98\n",
    "def simulated_annealing(InitialVars, rounds):\n",
    "    current = InitialVars\n",
    "    for t in range(rounds):\n",
    "        T = schedule(t)\n",
    "        if T<=10:\n",
    "            return current\n",
    "        for var in imerge(current, model.neighbours(current))\n"
   ]
  }
 ],
 "metadata": {
  "kernelspec": {
   "display_name": "Python 3",
   "language": "python",
   "name": "python3"
  },
  "language_info": {
   "codemirror_mode": {
    "name": "ipython",
    "version": 2
   },
   "file_extension": ".py",
   "mimetype": "text/x-python",
   "name": "python",
   "nbconvert_exporter": "python",
   "pygments_lexer": "ipython2",
   "version": "2.7.6"
  }
 },
 "nbformat": 4,
 "nbformat_minor": 0
}