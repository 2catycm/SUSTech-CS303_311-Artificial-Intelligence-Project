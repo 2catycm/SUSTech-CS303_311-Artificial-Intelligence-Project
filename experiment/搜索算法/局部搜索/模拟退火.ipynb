{
 "cells": [
  {
   "cell_type": "code",
   "execution_count": 1,
   "outputs": [
    {
     "name": "stdout",
     "output_type": "stream",
     "text": [
      "10920\n"
     ]
    }
   ],
   "source": [
    "import linear_model as model\n",
    "import src.project1.submit.AI as ai\n",
    "from experiment.评估函数.simulator import Simulator\n",
    "from experiment.评估函数.greedy_ai import GreedyAI\n",
    "from experiment.评估函数.greedys import *\n",
    "import numpy as np\n",
    "\n",
    "chessboard_size = 8\n",
    "time_out = 5\n",
    "\n",
    "\n",
    "def greedy_fun(Vars):\n",
    "    PVT, PVT_max = model.get_PVT_and_max(Vars)\n",
    "    return lambda a, p: model.value_of_positions(a.reversi_env.updated_chessboard(a.chessboard, a.color, p), a.color,\n",
    "                                                 PVT, PVT_max)\n",
    "\n",
    "\n",
    "baselines = [random_baseline, middle_action_first, map_weight_sum, map_weight_sum2]\n",
    "baseline_cnt = len(baselines)\n",
    "neighbour_cnt = 10\n",
    "# 注意时间复杂度不要太高\n",
    "落子次数 = (4 + neighbour_cnt) * (3 + neighbour_cnt) * 60\n",
    "print(落子次数)"
   ],
   "metadata": {
    "collapsed": false,
    "pycharm": {
     "name": "#%%\n"
    }
   }
  },
  {
   "cell_type": "code",
   "execution_count": 11,
   "outputs": [],
   "source": [
    "import random\n",
    "\n",
    "\n",
    "def simulated_annealing(state, T=1, log_interval=10):\n",
    "    t = 0  # time step\n",
    "    f = []  # a recording of values\n",
    "    while T >= 1e-7:\n",
    "        vars_list = model.neighbours_continuous(state, -1, 1, 0.1, neighbour_cnt)\n",
    "        funcs = baselines + list(map(greedy_fun, vars_list))\n",
    "        length = len(funcs)\n",
    "        matches = 2/2*length*(length-1)\n",
    "        scores = np.zeros(length)\n",
    "        for i in range(length):\n",
    "            for j in range(i + 1, length):\n",
    "                for i_color in [ai.COLOR_BLACK, ai.COLOR_WHITE]:\n",
    "                    agents = {i_color: GreedyAI(chessboard_size, i_color, funcs[i]),\n",
    "                              -i_color: GreedyAI(chessboard_size, -i_color, funcs[j])}\n",
    "                    simulator = Simulator(chessboard_size, time_out, agents)\n",
    "                    winner = simulator.quick_run(no_print=True)\n",
    "                    if winner == i_color:\n",
    "                        scores[i] += 1\n",
    "                    elif winner == -i_color:\n",
    "                        scores[j] += 1\n",
    "        diff = np.inf\n",
    "        new_idx = -1\n",
    "        new_value = np.nan\n",
    "        while not (diff > 0 or np.exp(diff / T) > np.random.uniform()):\n",
    "            new_idx = random.randint(1, neighbour_cnt)\n",
    "            new_value = scores[new_idx]\n",
    "            diff = new_value - scores[0]\n",
    "\n",
    "        state = vars_list[new_idx]\n",
    "        f.append(new_value)\n",
    "        # update time and temperature\n",
    "        if t % log_interval == 0:\n",
    "            print(f\"step {t}: T={T}, current_value={scores[new_idx]/matches}\")\n",
    "        t += 1\n",
    "        T = 0.999 ** t\n",
    "    print(f\"step {t}: T={T}, current_value={scores[new_idx]/matches}\")\n",
    "    return state, f"
   ],
   "metadata": {
    "collapsed": false,
    "pycharm": {
     "name": "#%%\n"
    }
   }
  },
  {
   "cell_type": "code",
   "execution_count": null,
   "outputs": [
    {
     "name": "stdout",
     "output_type": "stream",
     "text": [
      "step 0: T=1, current_value=0.06190476190476191\n"
     ]
    }
   ],
   "source": [
    "import matplotlib.pyplot as plt\n",
    "\n",
    "# define your own schedule and halt condition\n",
    "solution, record = simulated_annealing(\n",
    "    np.array([0.58294678, 0.32422638, 0.30072021, 0.04949951, 0.74310493,\n",
    "               0.26721382, 0.05133057, 0.72602844, -0.12939453, -0.73083496])\n",
    ")\n",
    "solution"
   ],
   "metadata": {
    "collapsed": false,
    "pycharm": {
     "name": "#%%\n",
     "is_executing": true
    }
   }
  },
  {
   "cell_type": "code",
   "execution_count": null,
   "outputs": [],
   "source": [
    "# visualize the curve\n",
    "plt.plot(record)\n",
    "plt.xlabel(\"time step\")\n",
    "plt.ylabel(\"value\")"
   ],
   "metadata": {
    "collapsed": false,
    "pycharm": {
     "name": "#%%\n"
    }
   }
  },
  {
   "cell_type": "markdown",
   "metadata": {
    "pycharm": {
     "name": "#%% md\n"
    }
   },
   "source": [
    "## Deprecated: "
   ]
  },
  {
   "cell_type": "code",
   "execution_count": null,
   "metadata": {
    "collapsed": false,
    "pycharm": {
     "name": "#%%\n"
    }
   },
   "outputs": [],
   "source": [
    "def imerge(a, b):\n",
    "    i1 = iter(a)\n",
    "    i2 = iter(b)\n",
    "    while True:\n",
    "        try:\n",
    "            yield i1.next()\n",
    "            yield i2.next()\n",
    "        except StopIteration:\n",
    "            return\n",
    "\n",
    "\n",
    "for i in imerge(range(10), range(8)):\n",
    "    print(i)"
   ]
  },
  {
   "cell_type": "code",
   "execution_count": null,
   "metadata": {
    "collapsed": false,
    "pycharm": {
     "name": "#%%\n"
    }
   },
   "outputs": [],
   "source": [
    "def schedule(t):\n",
    "    T = 1000\n",
    "    while True:\n",
    "        yield T\n",
    "        T *= 0.98\n",
    "\n",
    "\n",
    "def simulated_annealing(InitialVars, rounds):\n",
    "    current = InitialVars\n",
    "    for t in range(rounds):\n",
    "        T = schedule(t)\n",
    "        if T <= 10:\n",
    "            return current\n",
    "        for var in imerge(current, model.neighbours(current))\n"
   ]
  }
 ],
 "metadata": {
  "kernelspec": {
   "display_name": "Python 3",
   "language": "python",
   "name": "python3"
  },
  "language_info": {
   "codemirror_mode": {
    "name": "ipython",
    "version": 2
   },
   "file_extension": ".py",
   "mimetype": "text/x-python",
   "name": "python",
   "nbconvert_exporter": "python",
   "pygments_lexer": "ipython2",
   "version": "2.7.6"
  }
 },
 "nbformat": 4,
 "nbformat_minor": 0
}