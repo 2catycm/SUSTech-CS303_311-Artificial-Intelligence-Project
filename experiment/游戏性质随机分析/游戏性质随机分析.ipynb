{
 "cells": [
  {
   "cell_type": "markdown",
   "metadata": {
    "pycharm": {
     "name": "#%% md\n"
    }
   },
   "source": [
    " 我们分析的目标有\n",
    "- 平均宽度是多少？（一般行动力是多少）\n",
    "    如果成功分析，下一步可以是：\n",
    "    - 逆向ab剪枝，在1h的训练下，能够获得多少棋局的minimax value？ 能够得到多少层的信息？保存到磁盘上可不可行？\n",
    "    - 正向ab剪枝，预测在numba加速的前提下，能够分析多少层？\n",
    "- 出现对称剪枝的情况多不多？\n",
    "\n",
    " - 可以把统计数据记到回合上面，然后最后分析 开局、中局、残局的信息"
   ]
  },
  {
   "cell_type": "code",
   "execution_count": 3,
   "metadata": {
    "pycharm": {
     "name": "#%%\n"
    }
   },
   "outputs": [],
   "source": [
    "from experiment.评估函数.simulator import Simulator\n",
    "from experiment.评估函数.greedy_ai import GreedyAI\n",
    "import experiment.old_ai.AI as ai\n",
    "from numba import njit\n",
    "\n",
    "import src.project1.submit.AI as new_ai\n",
    "\n",
    "import numpy as np\n",
    "import random\n",
    "\n",
    "# chessboard_size = 4  # 4赛罗游戏\n",
    "chessboard_size = 8  # 正常黑白棋游戏\n",
    "time_out = 5\n",
    "\n",
    "\n",
    "def random_baseline(a, p):\n",
    "    return random.random()  # 0-1随机权重\n",
    "\n",
    "# breadth = [0 for i in range(65)] # 4到64回合可以用\n",
    "breadth = np.zeros(65) # 4到64回合可以用\n",
    "breadth_times = np.zeros(65)\n",
    "def clear_accounts():\n",
    "    global breadth, breadth_times\n",
    "    breadth = np.zeros(65) # 4到64回合可以用\n",
    "    breadth_times = np.zeros(65)\n",
    "clear_accounts()\n",
    "def account_breadth(rounds, color, chessboard, agents):\n",
    "    b = len(new_ai.actions(chessboard, color))\n",
    "    breadth[rounds] += b\n",
    "    breadth_times[rounds]+=1"
   ]
  },
  {
   "cell_type": "code",
   "execution_count": 7,
   "metadata": {
    "pycharm": {
     "name": "#%%\n"
    }
   },
   "outputs": [],
   "source": [
    "def account_tenth():\n",
    "    accountants = [account_breadth]\n",
    "    for i in range(10):\n",
    "        for i_color in [ai.COLOR_BLACK, ai.COLOR_WHITE]:\n",
    "            agents = {i_color: GreedyAI(chessboard_size, i_color, random_baseline),\n",
    "                      -i_color: GreedyAI(chessboard_size, -i_color, random_baseline)}\n",
    "            simulator = Simulator(chessboard_size, time_out, agents)\n",
    "            winner = simulator.quick_run(accountants, True)"
   ]
  },
  {
   "cell_type": "code",
   "execution_count": 8,
   "outputs": [
    {
     "name": "stdout",
     "output_type": "stream",
     "text": [
      "过\n",
      "过\n",
      "过\n",
      "过\n",
      "过\n",
      "过\n",
      "过\n",
      "过\n",
      "过\n",
      "过\n",
      "过\n",
      "过\n"
     ]
    }
   ],
   "source": [
    "account_tenth()"
   ],
   "metadata": {
    "collapsed": false,
    "pycharm": {
     "name": "#%%\n"
    }
   }
  },
  {
   "cell_type": "code",
   "execution_count": 10,
   "outputs": [
    {
     "name": "stdout",
     "output_type": "stream",
     "text": [
      "[  0.   0.   0.   0. 160. 120. 185. 202. 230. 243. 285. 298. 322. 325.\n",
      " 359. 357. 364. 399. 389. 414. 440. 423. 461. 451. 456. 486. 461. 474.\n",
      " 491. 479. 497. 469. 516. 490. 519. 495. 510. 469. 487. 463. 483. 445.\n",
      " 464. 434. 430. 405. 420. 362. 380. 340. 339. 306. 300. 267. 278. 222.\n",
      " 212. 183. 166. 139. 113.  89.  66.  40.   0.]\n",
      "[ 0.  0.  0.  0. 40. 40. 40. 40. 40. 40. 40. 40. 40. 40. 40. 40. 40. 40.\n",
      " 40. 40. 40. 40. 40. 40. 40. 40. 40. 40. 40. 40. 40. 40. 40. 40. 40. 40.\n",
      " 40. 40. 40. 40. 40. 40. 40. 40. 40. 40. 40. 40. 40. 40. 40. 40. 40. 40.\n",
      " 40. 40. 40. 41. 40. 40. 40. 42. 46. 57.  0.]\n"
     ]
    }
   ],
   "source": [
    "print(breadth)\n",
    "print(breadth_times)    # 第六十四回合永远terminal，所以nan"
   ],
   "metadata": {
    "collapsed": false,
    "pycharm": {
     "name": "#%%\n"
    }
   }
  },
  {
   "cell_type": "code",
   "execution_count": 19,
   "metadata": {
    "pycharm": {
     "name": "#%%\n"
    }
   },
   "outputs": [
    {
     "name": "stdout",
     "output_type": "stream",
     "text": [
      "[ 0.          0.          0.          0.          4.          3.\n",
      "  4.625       5.05        5.75        6.075       7.125       7.45\n",
      "  8.05        8.125       8.975       8.925       9.1         9.975\n",
      "  9.725      10.35       11.         10.575      11.525      11.275\n",
      " 11.4        12.15       11.525      11.85       12.275      11.975\n",
      " 12.425      11.725      12.9        12.25       12.975      12.375\n",
      " 12.75       11.725      12.175      11.575      12.075      11.125\n",
      " 11.6        10.85       10.75       10.125      10.5         9.05\n",
      "  9.5         8.5         8.475       7.65        7.5         6.675\n",
      "  6.95        5.55        5.3         4.46341463  4.15        3.475\n",
      "  2.825       2.11904762  1.43478261  0.70175439  0.        ]\n"
     ]
    },
    {
     "name": "stderr",
     "output_type": "stream",
     "text": [
      "C:\\Users\\YeCanming\\AppData\\Local\\Temp\\ipykernel_14172\\2469600728.py:1: RuntimeWarning: invalid value encountered in true_divide\n",
      "  avg_breadths = np.nan_to_num(breadth/breadth_times)\n"
     ]
    }
   ],
   "source": [
    "avg_breadths = np.nan_to_num(breadth/breadth_times)\n",
    "print(avg_breadths)"
   ]
  },
  {
   "cell_type": "code",
   "execution_count": 20,
   "outputs": [
    {
     "data": {
      "text/plain": "8.093369219197761"
     },
     "execution_count": 20,
     "metadata": {},
     "output_type": "execute_result"
    }
   ],
   "source": [
    "avg_breadths.mean()"
   ],
   "metadata": {
    "collapsed": false,
    "pycharm": {
     "name": "#%%\n"
    }
   }
  },
  {
   "cell_type": "code",
   "execution_count": null,
   "outputs": [],
   "source": [],
   "metadata": {
    "collapsed": false,
    "pycharm": {
     "name": "#%%\n"
    }
   }
  }
 ],
 "metadata": {
  "kernelspec": {
   "display_name": "Python 3.10.5 64-bit",
   "language": "python",
   "name": "python3"
  },
  "language_info": {
   "codemirror_mode": {
    "name": "ipython",
    "version": 3
   },
   "file_extension": ".py",
   "mimetype": "text/x-python",
   "name": "python",
   "nbconvert_exporter": "python",
   "pygments_lexer": "ipython3",
   "version": "3.10.5"
  },
  "orig_nbformat": 4,
  "vscode": {
   "interpreter": {
    "hash": "d4ad195ff334c471a543b0a7bb226f1a689063219ec9cc66cee2dec60707a1ec"
   }
  }
 },
 "nbformat": 4,
 "nbformat_minor": 2
}